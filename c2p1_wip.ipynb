{
 "cells": [
  {
   "cell_type": "markdown",
   "source": [
    "# CMPUT 466/566, Winter 2020 Introduction to Machine learning \n",
    "## Coding Assignment 2 \n",
    "### Problem 1 Report\n",
    "By Nathan Klapstein #1449872"
   ],
   "metadata": {
    "collapsed": false
   }
  },
  {
   "cell_type": "code",
   "execution_count": 1,
   "outputs": [],
   "source": [
    "\n",
    "import struct\n",
    "\n",
    "import numpy as np\n",
    "\n",
    "import matplotlib.pyplot as plt\n",
    "from matplotlib.colors import ListedColormap\n",
    "from scipy.special import expit\n"
   ],
   "metadata": {
    "collapsed": false,
    "pycharm": {
     "name": "#%%\n",
     "is_executing": false
    }
   }
  },
  {
   "cell_type": "code",
   "execution_count": 2,
   "outputs": [],
   "source": [
    "\n",
    "def readMNISTdata():\n",
    "    with open('data/t10k-images-idx3-ubyte', 'rb') as f:\n",
    "        magic, size = struct.unpack(\">II\", f.read(8))\n",
    "        nrows, ncols = struct.unpack(\">II\", f.read(8))\n",
    "        test_data = np.fromfile(f, dtype=np.dtype(np.uint8).newbyteorder('>'))\n",
    "        test_data = test_data.reshape((size, nrows * ncols))\n",
    "\n",
    "    with open('data/t10k-labels-idx1-ubyte', 'rb') as f:\n",
    "        magic, size = struct.unpack(\">II\", f.read(8))\n",
    "        test_labels = np.fromfile(f,\n",
    "                                  dtype=np.dtype(np.uint8).newbyteorder('>'))\n",
    "        test_labels = test_labels.reshape((size, 1))\n",
    "\n",
    "    with open('data/train-images-idx3-ubyte', 'rb') as f:\n",
    "        magic, size = struct.unpack(\">II\", f.read(8))\n",
    "        nrows, ncols = struct.unpack(\">II\", f.read(8))\n",
    "        train_data = np.fromfile(f, dtype=np.dtype(np.uint8).newbyteorder('>'))\n",
    "        train_data = train_data.reshape((size, nrows * ncols))\n",
    "\n",
    "    with open('data/train-labels-idx1-ubyte', 'rb') as f:\n",
    "        magic, size = struct.unpack(\">II\", f.read(8))\n",
    "        train_labels = np.fromfile(f,\n",
    "                                   dtype=np.dtype(np.uint8).newbyteorder('>'))\n",
    "        train_labels = train_labels.reshape((size, 1))\n",
    "\n",
    "    # augmenting a constant feature of 1 (absorbing the bias term)\n",
    "    train_data = np.concatenate(\n",
    "        (np.ones([train_data.shape[0], 1]), train_data), axis=1)\n",
    "    test_data = np.concatenate((np.ones([test_data.shape[0], 1]), test_data),\n",
    "                               axis=1)\n",
    "    np.random.seed(314)\n",
    "    np.random.shuffle(train_labels)\n",
    "    np.random.seed(314)\n",
    "    np.random.shuffle(train_data)\n",
    "\n",
    "    X_train = train_data[:50000] / 256\n",
    "    t_train = train_labels[:50000]\n",
    "\n",
    "    X_val = train_data[50000:] / 256\n",
    "    t_val = train_labels[50000:]\n",
    "\n",
    "    return X_train, t_train, X_val, t_val, test_data, test_labels\n"
   ],
   "metadata": {
    "collapsed": false,
    "pycharm": {
     "name": "#%%\n",
     "is_executing": false
    }
   }
  },
  {
   "cell_type": "code",
   "execution_count": 3,
   "outputs": [],
   "source": [
    " X_train, t_train, X_val, t_val, X_test, t_test = readMNISTdata()"
   ],
   "metadata": {
    "collapsed": false,
    "pycharm": {
     "name": "#%%\n",
     "is_executing": false
    }
   }
  },
  {
   "cell_type": "code",
   "execution_count": 4,
   "outputs": [],
   "source": [
    "def softmax(X):\n",
    "    X_exp = np.exp(X)\n",
    "    partition = X_exp.sum(axis=1, keepdims=True)\n",
    "    return X_exp / partition  # The broadcast mechanism is applied here\n",
    "\n",
    "def cross_entropy(y_hat, y):\n",
    "    print(range(len(y_hat)), y)\n",
    "    sum = 0\n",
    "    return - np.log(y_hat[list(range(len(y_hat))), y])\n",
    "\n",
    "\n",
    "def predict(X, W, t=None):\n",
    "    # X_new: Nsample x (d+1)\n",
    "    # W: (d+1) x K\n",
    "\n",
    "    # TODO: Your code here\n",
    "#     print(X, \"w\" W, t)\n",
    "    \n",
    "    # TODO: recycled code\n",
    "#     y_hat = np.matmul(X, W)\n",
    "#     loss = (1 / 2) * np.average(np.square(y_hat - y))\n",
    "#     risk = np.average(np.abs(y_hat - y))\n",
    "\n",
    "    y = np.matmul(X, W)\n",
    "    # print(y)\n",
    "    t_hat = np.argmax(y, axis=0)\n",
    "    \n",
    "    #loss = (1 / 2) * np.average(np.square(t_hat - t))\n",
    "    \n",
    "    # Calculation of loss\n",
    "    z = np.matmul(X, W)\n",
    "    z -= np.max(z, axis=0)  # Max trick for the softmax, preventing infinite values\n",
    "    p = np.exp(z) / np.sum(np.exp(z), axis=0)  # Softmax function\n",
    "    # L = -1 / len(y) * np.sum(np.log(p[y, range(len(y))]))  # Cross-entropy loss\n",
    "    import sys\n",
    "    \n",
    "    # L = -1 / len(y) * np.sum(np.log(p[y, np.arange(0, X.shape[1])]))  # Cross-entropy loss\n",
    "    L = - 1 / len(y) * np.sum(np.multiply(y, np.log(p))) # Cross-entropy loss\n",
    "    R = 0.5 * np.sum(np.multiply(W, W))  # Regularization term\n",
    "    loss = L + R  # Total loss\n",
    "    \n",
    "    risk = np.average(np.abs(t_hat - t))\n",
    "    # TODO: check if risk = acc\n",
    "    acc = risk\n",
    "    \n",
    "    return y, t_hat, loss, acc\n"
   ],
   "metadata": {
    "collapsed": false,
    "pycharm": {
     "name": "#%%\n",
     "is_executing": false
    }
   }
  },
  {
   "cell_type": "code",
   "execution_count": 4,
   "outputs": [],
   "source": [],
   "metadata": {
    "collapsed": false,
    "pycharm": {
     "name": "#%%\n",
     "is_executing": false
    }
   }
  },
  {
   "cell_type": "code",
   "execution_count": 5,
   "outputs": [],
   "source": [
    "\n",
    "def gradient(X, w, y=None):\n",
    "    # TODO: FIXED:  Did not scale gradient by 1/M;\n",
    "    # TODO: CHECK: 1/M  this is 1/N_train or should be 1/X.shape[0]=1/batch_size\n",
    "    return (1/X.shape[0])*np.matmul(np.transpose(X), (np.matmul(X, w) - y))\n"
   ],
   "metadata": {
    "collapsed": false,
    "pycharm": {
     "name": "#%%\n",
     "is_executing": false
    }
   }
  },
  {
   "cell_type": "code",
   "execution_count": 6,
   "outputs": [],
   "source": [
    "N_class = 10\n",
    "\n",
    "alpha = 0.1  # learning rate\n",
    "batch_size = 100  # batch size\n",
    "MaxIter = 50  # Maximum iteration\n",
    "decay = 0.  # weight decay"
   ],
   "metadata": {
    "collapsed": false,
    "pycharm": {
     "name": "#%%\n",
     "is_executing": false
    }
   }
  },
  {
   "cell_type": "code",
   "execution_count": 7,
   "outputs": [],
   "source": [
    "# TODO: recycled code\n",
    "def train(X_train, y_train, X_val, y_val):\n",
    "    N_train = X_train.shape[0]\n",
    "    N_val = X_val.shape[0]\n",
    "\n",
    "    # initialization\n",
    "    w = np.zeros([X_train.shape[1], 1])\n",
    "    # w: (d+1)x1\n",
    "\n",
    "    losses_train = []\n",
    "    risks_val = []\n",
    "\n",
    "    w_best = None\n",
    "    risk_best = 10000\n",
    "    epoch_best = 0\n",
    "\n",
    "    for epoch in range(MaxIter):\n",
    "        loss_this_epoch = 0\n",
    "        for b in range(int(np.ceil(N_train / batch_size))):\n",
    "            X_batch = X_train[b * batch_size: (b + 1) * batch_size]\n",
    "            y_batch = y_train[b * batch_size: (b + 1) * batch_size]\n",
    "    \n",
    "            y_hat_batch, t_hat, loss_batch, risk = predict(X_batch, w, y_batch)\n",
    "            loss_this_epoch += loss_batch\n",
    "\n",
    "            # TODO: Your code here\n",
    "            # Mini-batch gradient descent\n",
    "            \n",
    "            # TODO: FIXED: Did not scale gradient by 1/M;\n",
    "            # TODO: CHECK: see gradient TODOs\n",
    "            w = w - alpha * gradient(X_batch, w, y_batch)\n",
    "            # w = w - alpha * (1/batch_size)*gradient(X_batch, w, y_batch)\n",
    "        # TODO: Your code here\n",
    "        # monitor model behavior after each epoch\n",
    "        \n",
    "        # 1. Compute the training loss by averaging loss_this_epoch\n",
    "        #         losses_train.append(loss_this_epoch/int(np.ceil(N_train/batch_size)))\n",
    "        losses_train.append(loss_this_epoch / (int(np.ceil(N_train / batch_size))))\n",
    "        #print(f\"epoch={epoch} training loss={loss_this_epoch/  (int(np.ceil(N_train/batch_size)))}\")\n",
    "\n",
    "        # 2. Perform validation on the validation test by the risk\n",
    "        # TODO: FIXED: Validation set should not be run in batches\n",
    "        _, t_hat, _, risk = predict(X_val, w, y_val)\n",
    "        risks_val.append(risk)\n",
    "        \n",
    "        # 3. Keep track of the best validation epoch, risk, and the weights\n",
    "        if risks_val[epoch] <= risk_best:\n",
    "            epoch_best = epoch\n",
    "            risk_best = risks_val[epoch]\n",
    "            w_best = w\n",
    "\n",
    "    # Return some variables as needed\n",
    "    return epoch_best, risk_best, w_best, losses_train,  risks_val, risk_best\n",
    "\n",
    "\n",
    "\n"
   ],
   "metadata": {
    "collapsed": false,
    "pycharm": {
     "name": "#%%\n",
     "is_executing": false
    }
   }
  },
  {
   "cell_type": "code",
   "execution_count": 8,
   "outputs": [],
   "source": [
    "\n",
    "\n",
    "def softmax_loss_vectorized(W, X, y, reg):\n",
    "  \"\"\"\n",
    "  Softmax loss function, vectorized version.\n",
    "  Inputs:\n",
    "  - W: C x D array of weights\n",
    "  - X: D x N array of data. Data are D-dimensional columns\n",
    "  - y: 1-dimensional array of length N with labels 0...K-1, for K classes\n",
    "  - reg: (float) regularization strength\n",
    "  Returns:\n",
    "  a tuple of:\n",
    "  - loss as single float\n",
    "  - gradient with respect to weights W, an array of same size as W\n",
    "  \"\"\"\n",
    "  # Initialize the loss and gradient to zero.\n",
    "  loss = 0.0\n",
    "  dW = np.zeros_like(W)\n",
    "  N = X.shape[1] \n",
    "  # Compute cross-entropy loss\n",
    "  z = np.dot(W, X)\n",
    "  exp_z = np.exp(z - np.max(z, axis = 0) + np.min(z, axis =0)) # for numerical stability\n",
    "  p = exp_z / np.sum(exp_z, axis = 0) # softmax \n",
    "  R = np.sum(W*W) # regularization\n",
    "\n",
    "  dR = 2*W\n",
    "  loss = - np.sum(np.log(p[y, np.arange(0, N)]))/ N + reg * R \n",
    "  \n",
    "  p[y, np.arange(0, N)] -= 1\n",
    "  dW = np.dot(p, X.T)\n",
    "\n",
    "  dW = dW/N + reg * dR\n",
    "\n",
    "\n",
    "  return loss, dW\n",
    "\n",
    "\n",
    "class LinearClassifier:\n",
    "\n",
    "  def __init__(self):\n",
    "    self.W = None\n",
    "\n",
    "  def train(self, X, y, learning_rate=1e-3, reg=1e-5, num_iters=100,\n",
    "            batch_size=200, verbose=False):\n",
    "    \"\"\"\n",
    "    Train this linear classifier using stochastic gradient descent.\n",
    "    Inputs:\n",
    "    - X: D x N array of training data. Each training point is a D-dimensional\n",
    "         column.\n",
    "    - y: 1-dimensional array of length N with labels 0...K-1, for K classes.\n",
    "    - learning_rate: (float) learning rate for optimization.\n",
    "    - reg: (float) regularization strength.\n",
    "    - num_iters: (integer) number of steps to take when optimizing\n",
    "    - batch_size: (integer) number of training examples to use at each step.\n",
    "    - verbose: (boolean) If true, print progress during optimization.\n",
    "    Outputs:\n",
    "    A list containing the value of the loss function at each training iteration.\n",
    "    \"\"\"\n",
    "    \n",
    "    print(X.dtype)\n",
    "    dim, num_train = X.shape\n",
    "    num_classes = np.max(y) + 1 # assume y takes values 0...K-1 where K is number of classes\n",
    "    if self.W is None:\n",
    "      # lazily initialize W\n",
    "      self.W = np.random.randn(num_classes, dim) * 0.001\n",
    "\n",
    "    # Run stochastic gradient descent to optimize W\n",
    "    loss_history = []\n",
    "    for it in range(num_iters):\n",
    "\n",
    "      idx = np.random.choice(np.arange(0, X.shape[1]), batch_size, replace = True)\n",
    "      X_batch = X[:, idx]\n",
    "      y_batch = y[idx]\n",
    "      \n",
    "      assert X_batch.shape == (X.shape[0], batch_size)\n",
    "      assert y_batch.shape == (batch_size,1)\n",
    "\n",
    "      # evaluate loss and gradient\n",
    "      loss, grad = self.loss(X_batch, y_batch, reg)\n",
    "      \n",
    "      loss_history.append(loss)\n",
    "      # perform parameter update\n",
    "      #########################################################################\n",
    "      self.W = self.W - learning_rate * grad\n",
    "\n",
    "\n",
    "      if verbose and it % 100 == 0:\n",
    "        print('iteration %d / %d: loss %f' % (it, num_iters, loss))\n",
    "\n",
    "    return loss_history\n",
    "\n",
    "  def predict(self, X):\n",
    "    \"\"\"\n",
    "    Use the trained weights of this linear classifier to predict labels for\n",
    "    data points.\n",
    "    Inputs:\n",
    "    - X: D x N array of training data. Each column is a D-dimensional point.\n",
    "    Returns:\n",
    "    - y_pred: Predicted labels for the data in X. y_pred is a 1-dimensional\n",
    "      array of length N, and each element is an integer giving the predicted\n",
    "      class.\n",
    "    \"\"\"\n",
    "    z = np.dot(self.W, X)\n",
    "    exp_z = np.exp(z - np.max(z, axis = 0) + np.min(z, axis =0)) # for numerical stability\n",
    "    p = exp_z / np.sum(exp_z, axis = 0) # softmax (could be in vectorize)\n",
    "    y_pred = np.argmax(p, axis = 0)\n",
    "    \n",
    "    return y_pred\n",
    "\n",
    "  def loss(self, X_batch, y_batch, reg):\n",
    "    \"\"\"\n",
    "    Compute the loss function and its derivative.\n",
    "    Subclasses will override this.\n",
    "    Inputs:\n",
    "    - X_batch: D x N array of data; each column is a data point.\n",
    "    - y_batch: 1-dimensional array of length N with labels 0...K-1, for K classes.\n",
    "    - reg: (float) regularization strength.\n",
    "    Returns: A tuple containing:\n",
    "    - loss as a single float\n",
    "    - gradient with respect to self.W; an array of the same shape as W\n",
    "    \"\"\"\n",
    "    pass\n",
    "\n",
    "\n",
    "class Softmax(LinearClassifier):\n",
    "  \"\"\" A subclass that uses the Softmax + Cross-entropy loss function \"\"\"\n",
    "\n",
    "  def loss(self, X_batch, y_batch, reg):\n",
    "    return softmax_loss_vectorized(self.W, X_batch, y_batch, reg)\n",
    "  "
   ],
   "metadata": {
    "collapsed": false,
    "pycharm": {
     "name": "#%%\n",
     "is_executing": false
    }
   }
  },
  {
   "cell_type": "code",
   "execution_count": 9,
   "outputs": [
    {
     "name": "stdout",
     "text": [
      "(50000, 785) (50000, 1) (10000, 785) (10000, 1) (10000, 785) (10000, 1)\n",
      "float64\n",
      "iteration 0 / 50: loss 230.447643\n"
     ],
     "output_type": "stream"
    },
    {
     "data": {
      "text/plain": "<Figure size 432x288 with 1 Axes>",
      "image/png": "[encoded data removed]"
     },
     "metadata": {
      "needs_background": "light"
     },
     "output_type": "display_data"
    }
   ],
   "source": [
    "X_train, t_train, X_val, t_val, X_test, t_test = readMNISTdata()\n",
    "\n",
    "print(X_train.shape, t_train.shape, X_val.shape, t_val.shape, X_test.shape,\n",
    "  t_test.shape)\n",
    "\n",
    "sm = Softmax()\n",
    "\n",
    "loss_history = sm.train(X=X_train, y=t_train, num_iters=MaxIter, verbose=True, batch_size=batch_size)\n",
    "\n",
    "\n",
    "\n",
    "fig = plt.figure()\n",
    "plt.plot(loss_history, label=\"Training Losses\")\n",
    "plt.title(\"Training Losses\")\n",
    "plt.legend()\n",
    "plt.xlabel('Number of epoch')\n",
    "plt.ylabel('Training Loss')\n",
    "plt.show()"
   ],
   "metadata": {
    "collapsed": false,
    "pycharm": {
     "name": "#%%\n",
     "is_executing": false
    }
   }
  },
  {
   "cell_type": "code",
   "execution_count": 10,
   "outputs": [
    {
     "name": "stderr",
     "text": [
      "c:\\users\\nathan\\pycharmprojects\\cmput_466_coding_assignment_2\\.venv\\lib\\site-packages\\ipykernel_launcher.py:38: RuntimeWarning: divide by zero encountered in log\n",
      "c:\\users\\nathan\\pycharmprojects\\cmput_466_coding_assignment_2\\.venv\\lib\\site-packages\\ipykernel_launcher.py:24: RuntimeWarning: invalid value encountered in double_scalars\n",
      "c:\\users\\nathan\\pycharmprojects\\cmput_466_coding_assignment_2\\.venv\\lib\\site-packages\\numpy\\core\\fromnumeric.py:90: RuntimeWarning: overflow encountered in reduce\n",
      "  return ufunc.reduce(obj, axis, dtype, out, **passkwargs)\n",
      "c:\\users\\nathan\\pycharmprojects\\cmput_466_coding_assignment_2\\.venv\\lib\\site-packages\\ipykernel_launcher.py:40: RuntimeWarning: invalid value encountered in double_scalars\n",
      "c:\\users\\nathan\\pycharmprojects\\cmput_466_coding_assignment_2\\.venv\\lib\\site-packages\\ipykernel_launcher.py:39: RuntimeWarning: overflow encountered in multiply\n",
      "c:\\users\\nathan\\pycharmprojects\\cmput_466_coding_assignment_2\\.venv\\lib\\site-packages\\ipykernel_launcher.py:24: RuntimeWarning: invalid value encountered in matmul\n",
      "c:\\users\\nathan\\pycharmprojects\\cmput_466_coding_assignment_2\\.venv\\lib\\site-packages\\ipykernel_launcher.py:31: RuntimeWarning: invalid value encountered in matmul\n",
      "c:\\users\\nathan\\pycharmprojects\\cmput_466_coding_assignment_2\\.venv\\lib\\site-packages\\ipykernel_launcher.py:4: RuntimeWarning: invalid value encountered in matmul\n",
      "  after removing the cwd from sys.path.\n"
     ],
     "output_type": "stream"
    }
   ],
   "source": [
    "epoch_best, acc_best, W_best, losses_train, risks_val, risk_best = train(X_train, t_train, X_val, t_val)\n",
    "acc_train = risk_best"
   ],
   "metadata": {
    "collapsed": false,
    "pycharm": {
     "name": "#%%\n",
     "is_executing": false
    }
   }
  },
  {
   "cell_type": "code",
   "execution_count": 11,
   "outputs": [
    {
     "name": "stdout",
     "text": [
      "The best epoch: 49\n",
      "The best risk (normalized) 4.4266000000\n"
     ],
     "output_type": "stream"
    }
   ],
   "source": [
    "print(f\"The best epoch: {epoch_best:d}\")\n",
    "print(f\"The best risk (normalized) {risk_best:10.10f}\")"
   ],
   "metadata": {
    "collapsed": false,
    "pycharm": {
     "name": "#%%\n",
     "is_executing": false
    }
   }
  },
  {
   "cell_type": "code",
   "execution_count": 12,
   "outputs": [
    {
     "data": {
      "text/plain": "<Figure size 432x288 with 1 Axes>",
      "image/png": "[encoded data removed]"
     },
     "metadata": {
      "needs_background": "light"
     },
     "output_type": "display_data"
    }
   ],
   "source": [
    "fig = plt.figure()\n",
    "plt.plot(losses_train, label=\"Training Losses\")\n",
    "plt.title(\"Training Losses\")\n",
    "plt.legend()\n",
    "plt.xlabel('Number of epoch')\n",
    "plt.ylabel('Training Loss')\n",
    "plt.show()\n"
   ],
   "metadata": {
    "collapsed": false,
    "pycharm": {
     "name": "#%%\n",
     "is_executing": false
    }
   }
  },
  {
   "cell_type": "code",
   "execution_count": 13,
   "outputs": [
    {
     "data": {
      "text/plain": "<Figure size 432x288 with 1 Axes>",
      "image/png": "[encoded data removed]"
     },
     "metadata": {
      "needs_background": "light"
     },
     "output_type": "display_data"
    }
   ],
   "source": [
    "\n",
    "fig = plt.figure()\n",
    "plt.plot(np.array(risks_val), label='Validation risk')\n",
    "plt.title(\"Validation_risk\")\n",
    "plt.xlabel('Number of epoch')\n",
    "plt.ylabel('Risk')\n",
    "plt.legend()\n",
    "plt.show()\n"
   ],
   "metadata": {
    "collapsed": false,
    "pycharm": {
     "name": "#%%\n",
     "is_executing": false
    }
   }
  },
  {
   "cell_type": "code",
   "execution_count": 14,
   "outputs": [
    {
     "name": "stdout",
     "text": [
      "At epoch 49 val:  4.4266 test: 4.4434 train: 4.4266\n"
     ],
     "output_type": "stream"
    }
   ],
   "source": [
    "_, _, _, acc_test = predict(X_test, W_best, t_test)\n",
    "\n",
    "print('At epoch', epoch_best, 'val: ', acc_best, 'test:', acc_test, 'train:', acc_train)\n"
   ],
   "metadata": {
    "collapsed": false,
    "pycharm": {
     "name": "#%%\n",
     "is_executing": false
    }
   }
  },
  {
   "cell_type": "code",
   "execution_count": 14,
   "outputs": [],
   "source": [],
   "metadata": {
    "collapsed": false,
    "pycharm": {
     "name": "#%%\n",
     "is_executing": false
    }
   }
  },
  {
   "cell_type": "code",
   "execution_count": 14,
   "outputs": [],
   "source": [],
   "metadata": {
    "collapsed": false,
    "pycharm": {
     "name": "#%%\n",
     "is_executing": false
    }
   }
  },
  {
   "cell_type": "code",
   "execution_count": 14,
   "outputs": [],
   "source": [],
   "metadata": {
    "collapsed": false,
    "pycharm": {
     "name": "#%%\n",
     "is_executing": false
    }
   }
  },
  {
   "cell_type": "code",
   "execution_count": 14,
   "outputs": [],
   "source": [],
   "metadata": {
    "collapsed": false,
    "pycharm": {
     "name": "#%%\n",
     "is_executing": false
    }
   }
  },
  {
   "cell_type": "code",
   "execution_count": 14,
   "outputs": [],
   "source": [],
   "metadata": {
    "collapsed": false,
    "pycharm": {
     "name": "#%%\n",
     "is_executing": false
    }
   }
  },
  {
   "cell_type": "code",
   "execution_count": 14,
   "outputs": [],
   "source": [],
   "metadata": {
    "collapsed": false,
    "pycharm": {
     "name": "#%%\n",
     "is_executing": false
    }
   }
  },
  {
   "cell_type": "code",
   "execution_count": 14,
   "outputs": [],
   "source": [],
   "metadata": {
    "collapsed": false,
    "pycharm": {
     "name": "#%%\n",
     "is_executing": false
    }
   }
  },
  {
   "cell_type": "code",
   "execution_count": 15,
   "outputs": [],
   "source": [
    "class Softmax:\n",
    "    \"\"\"\n",
    "    A softmax classifier\n",
    "    \"\"\"\n",
    "    __slots__ = (\"epochs\", \"learningRate\", \"batchSize\", \"regStrength\", \"wt\", \"momentum\", \"velocity\")\n",
    "    def __init__(self, epochs, learningRate, batchSize, regStrength, momentum):\n",
    "        \"\"\"\n",
    "        Softmax constructor which initialized parameters\n",
    "        :param epochs: Number of iterations over complete training data\n",
    "        :param learningRate: A step size or a learning rate\n",
    "        :param batchSize: A mini-batch size(less than total number of training data)\n",
    "        :param regStrength: A regularization strength\n",
    "        :param momentum: A momentum value\n",
    "        \"\"\"\n",
    "        self.epochs = epochs\n",
    "        self.learningRate = learningRate\n",
    "        self.batchSize = batchSize\n",
    "        self.regStrength = regStrength\n",
    "        self.momentum = momentum\n",
    "        self.velocity = None\n",
    "        self.wt = None\n",
    "\n",
    "    def train(self, xTrain, yTrain, xTest, yTest):\n",
    "        \"\"\"\n",
    "        Train a softmax classifier model on training data using stochastic gradient descent with mini-batches\n",
    "        and momentum to minimize softmax (cross-entropy) loss of this single layer neural network. It calcualtes\n",
    "        mean per-class accuracy for the training/testing data and the loss.\n",
    "        :param xTrain: Training input data\n",
    "        :param yTrain: Training labels\n",
    "        :param xTest: Testing input data\n",
    "        :param yTest: Testing labels\n",
    "        :return: A tuple of training/Testing losses and Accuracy\n",
    "        \"\"\"\n",
    "        D = xTrain.shape[1]  # dimensionality\n",
    "        label = np.unique(yTrain)\n",
    "        numOfClasses = len(label) # number of classes\n",
    "        yTrainEnc = self.oneHotEncoding(yTrain, numOfClasses)\n",
    "        yTestEnc = self.oneHotEncoding(yTest, numOfClasses)\n",
    "        self.wt = 0.001 * np.random.rand(D, numOfClasses)\n",
    "        self.velocity = np.zeros(self.wt.shape)\n",
    "        trainLosses = []\n",
    "        testLosses = []\n",
    "        trainAcc = []\n",
    "        testAcc = []\n",
    "        for e in range(self.epochs): # loop over epochs\n",
    "            trainLoss = self.SGDWithMomentum(xTrain, yTrainEnc)\n",
    "            testLoss, dw = self.computeLoss(xTest, yTestEnc)\n",
    "            trainAcc.append(self.meanAccuracy(xTrain, yTrain))\n",
    "            testAcc.append(self.meanAccuracy(xTest, yTest))\n",
    "            trainLosses.append(trainLoss)\n",
    "            testLosses.append(testLoss)\n",
    "            print(\"{:d}\\t->\\tTrainL : {:.7f}\\t|\\tTestL : {:.7f}\\t|\\tTrainAcc : {:.7f}\\t|\\tTestAcc: {:.7f}\"\n",
    "                  .format(e, trainLoss, testLoss, trainAcc[-1], testAcc[-1]))\n",
    "        return trainLosses, testLosses, trainAcc, testAcc\n",
    "\n",
    "    def SGDWithMomentum(self, x, y):\n",
    "        \"\"\"\n",
    "        Stochastic gradient descent with mini-batches. It divides training data into mini-batches\n",
    "        and compute loss and grad on that mini-batches and updates the weights. It repeats for all samples.\n",
    "        :param x: An input samples\n",
    "        :param y: An input labels\n",
    "        :return: Total loss computed\n",
    "        \"\"\"\n",
    "        losses = []\n",
    "        # Randomly juggle up the data.\n",
    "        import random\n",
    "        randomIndices = random.sample(range(x.shape[0]), x.shape[0])\n",
    "        x = x[randomIndices]\n",
    "        y = y[randomIndices]\n",
    "        for i in range(0, x.shape[0], self.batchSize):\n",
    "            Xbatch = x[i:i+self.batchSize]\n",
    "            ybatch = y[i:i+self.batchSize]\n",
    "            loss, dw = self.computeLoss(Xbatch, ybatch)\n",
    "            self.velocity = (self.momentum * self.velocity) + (self.learningRate * dw)\n",
    "            self.wt -= self.velocity\n",
    "            losses.append(loss)\n",
    "        return np.sum(losses) / len(losses)\n",
    "\n",
    "    def softmaxEquation(self, scores):\n",
    "        \"\"\"\n",
    "        It calculates a softmax probability\n",
    "        :param scores: A matrix(wt * input sample)\n",
    "        :return: softmax probability\n",
    "        \"\"\"\n",
    "        scores -= np.max(scores)\n",
    "        prob = (np.exp(scores).T / np.sum(np.exp(scores), axis=1)).T\n",
    "        return prob\n",
    "\n",
    "    def computeLoss(self, x, yMatrix):\n",
    "        \"\"\"\n",
    "        It calculates a cross-entropy loss with regularization loss and gradient to update the weights.\n",
    "        :param x: An input sample\n",
    "        :param yMatrix: Label as one-hot encoding\n",
    "        :return:\n",
    "        \"\"\"\n",
    "        numOfSamples = x.shape[0]\n",
    "        scores = np.dot(x, self.wt)\n",
    "        prob = self.softmaxEquation(scores)\n",
    "\n",
    "        loss = -np.log(np.max(prob)) * yMatrix\n",
    "        regLoss = (1/2)*self.regStrength*np.sum(self.wt*self.wt)\n",
    "        totalLoss = (np.sum(loss) / numOfSamples) + regLoss\n",
    "        grad = ((-1 / numOfSamples) * np.dot(x.T, (yMatrix - prob))) + (self.regStrength * self.wt)\n",
    "        return totalLoss, grad\n",
    "\n",
    "    def meanAccuracy(self, x, y):\n",
    "        \"\"\"\n",
    "        It calculates mean-per class accuracy\n",
    "        :param x: Input sample\n",
    "        :param y: label sample\n",
    "        :return: mean-per class accuracy\n",
    "        \"\"\"\n",
    "        predY = self.predict(x)\n",
    "        predY = predY.reshape((-1, 1))  # convert to column vector\n",
    "        return np.mean(np.equal(y, predY))\n",
    "\n",
    "    def predict(self, x):\n",
    "        \"\"\"\n",
    "        It predict the label based on input sample and a model\n",
    "        :param x: Input sample\n",
    "        :return: predicted label\n",
    "        \"\"\"\n",
    "        return np.argmax(x.dot(self.wt), 1)\n",
    "\n",
    "    def oneHotEncoding(self, y, numOfClasses):\n",
    "        \"\"\"\n",
    "        Convert a vector into one-hot encoding matrix where that particular column value is 1 and rest 0 for that row.\n",
    "        :param y: Label vector\n",
    "        :param numOfClasses: Number of unique labels\n",
    "        :return: one-hot encoding matrix\n",
    "        \"\"\"\n",
    "        y = np.asarray(y, dtype='int32')\n",
    "        if len(y) > 1:\n",
    "            y = y.reshape(-1)\n",
    "        if not numOfClasses:\n",
    "            numOfClasses = np.max(y) + 1\n",
    "        yMatrix = np.zeros((len(y), numOfClasses))\n",
    "        yMatrix[np.arange(len(y)), y] = 1\n",
    "        return yMatrix\n",
    "\n",
    "\n",
    "def plotGraph(trainLosses, testLosses, trainAcc, testAcc):\n",
    "    \"\"\"\n",
    "    Plot a Epochs vs. Cross Entropy Loss graph\n",
    "    :param trainLosses: List of training loss over every epochs\n",
    "    :param testLosses: List of testing loss over every epochs\n",
    "    :param trainAcc: List of training accuracy over every epochs\n",
    "    :param testAcc: List of testing accuracy over every epochs\n",
    "    :return: None\n",
    "    \"\"\"\n",
    "    plt.subplot(1, 2, 1)\n",
    "    plt.plot(trainLosses, label=\"Train loss\")\n",
    "    plt.plot(testLosses, label=\"Test loss\")\n",
    "    plt.legend(loc='best')\n",
    "    plt.title(\"Epochs vs. Cross Entropy Loss\")\n",
    "    plt.xlabel(\"Number of Iteration or Epochs\")\n",
    "    plt.ylabel(\"Cross Entropy Loss\")\n",
    "\n",
    "    plt.subplot(1, 2, 2)\n",
    "    plt.plot(trainAcc, label=\"Train Accuracy\")\n",
    "    plt.plot(testAcc, label=\"Test Accuracy\")\n",
    "    plt.legend(loc='best')\n",
    "    plt.title(\"Epochs vs. Mean per class Accuracy\")\n",
    "    plt.xlabel(\"Number of Iteration or Epochs\")\n",
    "    plt.ylabel(\"Mean per class Accuracy\")\n",
    "    plt.show()\n",
    "\n",
    "def readData(filename):\n",
    "    \"\"\"\n",
    "    Read data from file and divide into input sample and a label.\n",
    "    :param filename: name of a file\n",
    "    :return: input sample and label\n",
    "    \"\"\"\n",
    "    dataMatrix = np.loadtxt(filename)\n",
    "    np.random.shuffle(dataMatrix)\n",
    "    X = dataMatrix[:, 1:]\n",
    "    y = dataMatrix[:, 0].astype(int)\n",
    "    y = y.reshape((-1, 1))\n",
    "    y -= 1\n",
    "    return X, y\n",
    "\n",
    "def makeMeshGrid(x, y, h=0.02):\n",
    "    \"\"\"\n",
    "    Create a mesh point to plot decision boundary.\n",
    "    :param x: data or sample (for x-axis on meshgrid)\n",
    "    :param y: label(for y-axis on meshgrid)\n",
    "    :param h: step size for meshgrid\n",
    "    :return: matrix of x-axis and y-axis\n",
    "    \"\"\"\n",
    "    x_min, x_max = x[:, 0].min() - 1, x[:, 0].max() + 1\n",
    "    y_min, y_max = x[:, 1].min() - 1, x[:, 1].max() + 1\n",
    "    xx, yy = np.meshgrid(np.arange(x_min, x_max, h),\n",
    "                         np.arange(y_min, y_max, h))\n",
    "    return xx, yy\n",
    "\n",
    "def plotContours(plt, model, xx, yy, **params):\n",
    "    \"\"\"\n",
    "    It plot a contour.\n",
    "    :param plt: A matplotlib.pyplot object\n",
    "    :param model: softmax classifier model\n",
    "    :param xx: meshgrid ndarray\n",
    "    :param yy: meshgrid ndarray\n",
    "    :param params: Number of parameters to pass to contour function\n",
    "    :return:\n",
    "    \"\"\"\n",
    "    arr = np.array([xx.ravel(), yy.ravel()])\n",
    "    scores = np.dot(arr.T, sm.wt)\n",
    "    prob = model.softmaxEquation(scores)\n",
    "    Z = np.argmax(prob, axis=1) + 1\n",
    "\n",
    "    # Put result into a color plot\n",
    "    Z = Z.reshape(xx.shape)\n",
    "    plt.contourf(xx, yy, Z, **params)\n",
    "    # plt.axis('off')\n",
    "\n",
    "def plotDecisionBoundary(x, y):\n",
    "    \"\"\"\n",
    "    Plot a decision boundary to display a sample with region\n",
    "    :param x: input data or sample\n",
    "    :param y: label\n",
    "    :return: None\n",
    "    \"\"\"\n",
    "    markers = ('+', '.', 'x')\n",
    "    colors = ('blue', 'dimgrey', 'maroon')\n",
    "    cmap = ListedColormap(colors[:len(np.unique(y))])\n",
    "    xx, yy = makeMeshGrid(x, y)\n",
    "    plotContours(plt, sm, xx, yy, cmap=plt.cm.coolwarm, alpha=0.8)\n",
    "    # Plot also the training points\n",
    "    for idx, cl in enumerate(np.unique(y)):\n",
    "        xBasedOnLabel = x[np.where(y[:,0] == cl)]\n",
    "        plt.scatter(x=xBasedOnLabel[:, 0], y=xBasedOnLabel[:, 1], c=cmap(idx),\n",
    "                    cmap=plt.cm.coolwarm, marker=markers[idx], label=cl)\n",
    "    plt.xlim(xx.min(), xx.max())\n",
    "    plt.ylim(yy.min(), yy.max())\n",
    "    plt.xlabel(\"Feature X1\")\n",
    "    plt.ylabel(\"Feature X2\")\n",
    "    plt.title(\"Softmax Classifier on Iris Dataset(Decision Boundary)\")\n",
    "    plt.xticks()\n",
    "    plt.yticks()\n",
    "    plt.legend(loc='upper left')\n",
    "    plt.show()\n"
   ],
   "metadata": {
    "collapsed": false,
    "pycharm": {
     "name": "#%%\n",
     "is_executing": false
    }
   }
  },
  {
   "cell_type": "code",
   "execution_count": 16,
   "outputs": [
    {
     "name": "stdout",
     "text": [
      "0\t->\tTrainL : 0.0442766\t|\tTestL : 0.0204028\t|\tTrainAcc : 0.8971000\t|\tTestAcc: 0.8945000\n",
      "1\t->\tTrainL : 0.0251104\t|\tTestL : 0.0280077\t|\tTrainAcc : 0.9040400\t|\tTestAcc: 0.9004000\n",
      "2\t->\tTrainL : 0.0308830\t|\tTestL : 0.0329496\t|\tTrainAcc : 0.9072000\t|\tTestAcc: 0.9046000\n",
      "3\t->\tTrainL : 0.0351204\t|\tTestL : 0.0364781\t|\tTrainAcc : 0.9133000\t|\tTestAcc: 0.9079000\n",
      "4\t->\tTrainL : 0.0381186\t|\tTestL : 0.0392389\t|\tTrainAcc : 0.9140000\t|\tTestAcc: 0.9098000\n",
      "5\t->\tTrainL : 0.0405898\t|\tTestL : 0.0412856\t|\tTrainAcc : 0.9146800\t|\tTestAcc: 0.9092000\n",
      "6\t->\tTrainL : 0.0424312\t|\tTestL : 0.0430422\t|\tTrainAcc : 0.9157600\t|\tTestAcc: 0.9108000\n",
      "7\t->\tTrainL : 0.0440418\t|\tTestL : 0.0445630\t|\tTrainAcc : 0.9170600\t|\tTestAcc: 0.9114000\n",
      "8\t->\tTrainL : 0.0453599\t|\tTestL : 0.0457752\t|\tTrainAcc : 0.9186200\t|\tTestAcc: 0.9114000\n",
      "9\t->\tTrainL : 0.0464580\t|\tTestL : 0.0468354\t|\tTrainAcc : 0.9177400\t|\tTestAcc: 0.9115000\n",
      "10\t->\tTrainL : 0.0474662\t|\tTestL : 0.0476723\t|\tTrainAcc : 0.9184400\t|\tTestAcc: 0.9112000\n",
      "11\t->\tTrainL : 0.0482506\t|\tTestL : 0.0484047\t|\tTrainAcc : 0.9181400\t|\tTestAcc: 0.9112000\n",
      "12\t->\tTrainL : 0.0489176\t|\tTestL : 0.0491132\t|\tTrainAcc : 0.9197000\t|\tTestAcc: 0.9120000\n",
      "13\t->\tTrainL : 0.0495353\t|\tTestL : 0.0496542\t|\tTrainAcc : 0.9196200\t|\tTestAcc: 0.9144000\n",
      "14\t->\tTrainL : 0.0501279\t|\tTestL : 0.0501511\t|\tTrainAcc : 0.9199200\t|\tTestAcc: 0.9134000\n",
      "15\t->\tTrainL : 0.0506397\t|\tTestL : 0.0505134\t|\tTrainAcc : 0.9196400\t|\tTestAcc: 0.9128000\n",
      "16\t->\tTrainL : 0.0508583\t|\tTestL : 0.0509777\t|\tTrainAcc : 0.9204800\t|\tTestAcc: 0.9139000\n",
      "17\t->\tTrainL : 0.0512967\t|\tTestL : 0.0513245\t|\tTrainAcc : 0.9198400\t|\tTestAcc: 0.9121000\n",
      "18\t->\tTrainL : 0.0515827\t|\tTestL : 0.0516728\t|\tTrainAcc : 0.9189200\t|\tTestAcc: 0.9125000\n",
      "19\t->\tTrainL : 0.0519444\t|\tTestL : 0.0518660\t|\tTrainAcc : 0.9200800\t|\tTestAcc: 0.9134000\n",
      "20\t->\tTrainL : 0.0521730\t|\tTestL : 0.0521207\t|\tTrainAcc : 0.9204000\t|\tTestAcc: 0.9117000\n",
      "21\t->\tTrainL : 0.0524265\t|\tTestL : 0.0522724\t|\tTrainAcc : 0.9204600\t|\tTestAcc: 0.9120000\n",
      "22\t->\tTrainL : 0.0525573\t|\tTestL : 0.0524392\t|\tTrainAcc : 0.9205400\t|\tTestAcc: 0.9138000\n",
      "23\t->\tTrainL : 0.0527204\t|\tTestL : 0.0526906\t|\tTrainAcc : 0.9196400\t|\tTestAcc: 0.9121000\n",
      "24\t->\tTrainL : 0.0528661\t|\tTestL : 0.0528135\t|\tTrainAcc : 0.9197000\t|\tTestAcc: 0.9114000\n",
      "25\t->\tTrainL : 0.0530888\t|\tTestL : 0.0529161\t|\tTrainAcc : 0.9202800\t|\tTestAcc: 0.9129000\n",
      "26\t->\tTrainL : 0.0532865\t|\tTestL : 0.0528872\t|\tTrainAcc : 0.9215600\t|\tTestAcc: 0.9127000\n",
      "27\t->\tTrainL : 0.0531573\t|\tTestL : 0.0530896\t|\tTrainAcc : 0.9217600\t|\tTestAcc: 0.9134000\n",
      "28\t->\tTrainL : 0.0532683\t|\tTestL : 0.0532475\t|\tTrainAcc : 0.9215800\t|\tTestAcc: 0.9132000\n",
      "29\t->\tTrainL : 0.0535242\t|\tTestL : 0.0533344\t|\tTrainAcc : 0.9211800\t|\tTestAcc: 0.9140000\n",
      "30\t->\tTrainL : 0.0536035\t|\tTestL : 0.0533713\t|\tTrainAcc : 0.9206200\t|\tTestAcc: 0.9145000\n",
      "31\t->\tTrainL : 0.0535660\t|\tTestL : 0.0534427\t|\tTrainAcc : 0.9215000\t|\tTestAcc: 0.9140000\n",
      "32\t->\tTrainL : 0.0537381\t|\tTestL : 0.0534647\t|\tTrainAcc : 0.9214000\t|\tTestAcc: 0.9146000\n",
      "33\t->\tTrainL : 0.0536974\t|\tTestL : 0.0535447\t|\tTrainAcc : 0.9216200\t|\tTestAcc: 0.9142000\n",
      "34\t->\tTrainL : 0.0538387\t|\tTestL : 0.0536320\t|\tTrainAcc : 0.9203800\t|\tTestAcc: 0.9136000\n",
      "35\t->\tTrainL : 0.0538573\t|\tTestL : 0.0537228\t|\tTrainAcc : 0.9208800\t|\tTestAcc: 0.9139000\n",
      "36\t->\tTrainL : 0.0539125\t|\tTestL : 0.0537655\t|\tTrainAcc : 0.9198600\t|\tTestAcc: 0.9141000\n",
      "37\t->\tTrainL : 0.0539628\t|\tTestL : 0.0537682\t|\tTrainAcc : 0.9197400\t|\tTestAcc: 0.9130000\n",
      "38\t->\tTrainL : 0.0539875\t|\tTestL : 0.0537521\t|\tTrainAcc : 0.9197400\t|\tTestAcc: 0.9136000\n",
      "39\t->\tTrainL : 0.0539702\t|\tTestL : 0.0538267\t|\tTrainAcc : 0.9208800\t|\tTestAcc: 0.9130000\n",
      "40\t->\tTrainL : 0.0540901\t|\tTestL : 0.0538037\t|\tTrainAcc : 0.9205000\t|\tTestAcc: 0.9134000\n",
      "41\t->\tTrainL : 0.0540009\t|\tTestL : 0.0538274\t|\tTrainAcc : 0.9212400\t|\tTestAcc: 0.9139000\n",
      "42\t->\tTrainL : 0.0540974\t|\tTestL : 0.0538736\t|\tTrainAcc : 0.9201200\t|\tTestAcc: 0.9121000\n",
      "43\t->\tTrainL : 0.0540964\t|\tTestL : 0.0538986\t|\tTrainAcc : 0.9196200\t|\tTestAcc: 0.9140000\n",
      "44\t->\tTrainL : 0.0541424\t|\tTestL : 0.0539194\t|\tTrainAcc : 0.9216200\t|\tTestAcc: 0.9150000\n",
      "45\t->\tTrainL : 0.0540560\t|\tTestL : 0.0539648\t|\tTrainAcc : 0.9192000\t|\tTestAcc: 0.9116000\n",
      "46\t->\tTrainL : 0.0542009\t|\tTestL : 0.0539842\t|\tTrainAcc : 0.9205400\t|\tTestAcc: 0.9138000\n",
      "47\t->\tTrainL : 0.0541381\t|\tTestL : 0.0540342\t|\tTrainAcc : 0.9214400\t|\tTestAcc: 0.9127000\n",
      "48\t->\tTrainL : 0.0542187\t|\tTestL : 0.0539888\t|\tTrainAcc : 0.9204600\t|\tTestAcc: 0.9138000\n",
      "49\t->\tTrainL : 0.0541782\t|\tTestL : 0.0539949\t|\tTrainAcc : 0.9206600\t|\tTestAcc: 0.9130000\n"
     ],
     "output_type": "stream"
    },
    {
     "data": {
      "text/plain": "<Figure size 432x288 with 2 Axes>",
      "image/png": "[encoded data removed]"
     },
     "metadata": {
      "needs_background": "light"
     },
     "output_type": "display_data"
    },
    {
     "name": "stderr",
     "text": [
      "c:\\users\\nathan\\pycharmprojects\\cmput_466_coding_assignment_2\\.venv\\lib\\site-packages\\ipykernel_launcher.py:86: RuntimeWarning: invalid value encountered in true_divide\n"
     ],
     "output_type": "stream"
    },
    {
     "data": {
      "text/plain": "(nan,\n array([[nan, nan, nan, ..., nan, nan, nan],\n        [nan, nan, nan, ..., nan, nan, nan],\n        [nan, nan, nan, ..., nan, nan, nan],\n        ...,\n        [nan, nan, nan, ..., nan, nan, nan],\n        [nan, nan, nan, ..., nan, nan, nan],\n        [nan, nan, nan, ..., nan, nan, nan]]))"
     },
     "metadata": {},
     "output_type": "execute_result",
     "execution_count": 16
    }
   ],
   "source": [
    "learningRate = 0.07\n",
    "regStrength = 0.001\n",
    "\n",
    "momentum= 0.5\n",
    "\n",
    "\n",
    "\n",
    "\n",
    "X_train, t_train, X_val, t_val, X_test, t_test = readMNISTdata()\n",
    "\n",
    "\n",
    "sm = Softmax(epochs=MaxIter, learningRate=learningRate, batchSize=batch_size,\n",
    "             regStrength=regStrength, momentum=momentum)\n",
    "trainLosses, testLosses, trainAcc, testAcc = sm.train(X_train, t_train, X_val, t_val) # Train a network\n",
    "plotGraph(trainLosses, testLosses, trainAcc, testAcc)"
   ],
   "metadata": {
    "collapsed": false,
    "pycharm": {
     "name": "#%%\n",
     "is_executing": false
    }
   }
  },
  {
   "cell_type": "code",
   "execution_count": 19,
   "outputs": [
    {
     "name": "stderr",
     "text": [
      "c:\\users\\nathan\\pycharmprojects\\cmput_466_coding_assignment_2\\.venv\\lib\\site-packages\\ipykernel_launcher.py:86: RuntimeWarning: invalid value encountered in true_divide\n"
     ],
     "output_type": "stream"
    },
    {
     "data": {
      "text/plain": "(nan,\n array([[nan, nan, nan, ..., nan, nan, nan],\n        [nan, nan, nan, ..., nan, nan, nan],\n        [nan, nan, nan, ..., nan, nan, nan],\n        ...,\n        [nan, nan, nan, ..., nan, nan, nan],\n        [nan, nan, nan, ..., nan, nan, nan],\n        [nan, nan, nan, ..., nan, nan, nan]]))"
     },
     "metadata": {},
     "output_type": "execute_result",
     "execution_count": 19
    }
   ],
   "source": [
    "sm.computeLoss(X_test, sm.oneHotEncoding(t_test, 10))"
   ],
   "metadata": {
    "collapsed": false,
    "pycharm": {
     "name": "#%%\n",
     "is_executing": false
    }
   }
  },
  {
   "cell_type": "code",
   "execution_count": null,
   "outputs": [],
   "source": [
    "# plotDecisionBoundary(X_train, t_train)"
   ],
   "metadata": {
    "collapsed": false,
    "pycharm": {
     "name": "#%%\n",
     "is_executing": true
    }
   }
  },
  {
   "cell_type": "code",
   "execution_count": null,
   "outputs": [],
   "source": [
    "# plotDecisionBoundary(X_val, t_val)"
   ],
   "metadata": {
    "collapsed": false,
    "pycharm": {
     "name": "#%%\n",
     "is_executing": true
    }
   }
  },
  {
   "cell_type": "code",
   "execution_count": 21,
   "outputs": [],
   "source": [],
   "metadata": {
    "collapsed": false,
    "pycharm": {
     "name": "#%%\n",
     "is_executing": false
    }
   }
  },
  {
   "cell_type": "code",
   "execution_count": 21,
   "outputs": [],
   "source": [],
   "metadata": {
    "collapsed": false,
    "pycharm": {
     "name": "#%%\n",
     "is_executing": false
    }
   }
  },
  {
   "cell_type": "code",
   "execution_count": null,
   "outputs": [],
   "source": [
    "\n"
   ],
   "metadata": {
    "collapsed": false,
    "pycharm": {
     "name": "#%%\n"
    }
   }
  }
 ],
 "metadata": {
  "kernelspec": {
   "display_name": "Python 3",
   "language": "python",
   "name": "python3"
  },
  "language_info": {
   "codemirror_mode": {
    "name": "ipython",
    "version": 3
   },
   "file_extension": ".py",
   "mimetype": "text/x-python",
   "name": "python",
   "nbconvert_exporter": "python",
   "pygments_lexer": "ipython3",
   "version": "3.7.5"
  },
  "pycharm": {
   "stem_cell": {
    "cell_type": "raw",
    "source": [],
    "metadata": {
     "collapsed": false
    }
   }
  }
 },
 "nbformat": 4,
 "nbformat_minor": 1
}