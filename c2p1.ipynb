{
 "cells": [
  {
   "cell_type": "markdown",
   "source": [
    "# CMPUT 466/566, Winter 2020 Introduction to Machine learning \n",
    "## Coding Assignment 2 \n",
    "### Problem 1 Report\n",
    "By Nathan Klapstein #1449872"
   ],
   "metadata": {
    "collapsed": false
   }
  },
  {
   "cell_type": "code",
   "execution_count": 1,
   "outputs": [],
   "source": [
    "\n",
    "import struct\n",
    "\n",
    "import numpy as np\n",
    "\n",
    "import matplotlib.pyplot as plt\n",
    "import scipy\n",
    "import scipy.sparse\n"
   ],
   "metadata": {
    "collapsed": false,
    "pycharm": {
     "name": "#%%\n",
     "is_executing": false
    }
   }
  },
  {
   "cell_type": "markdown",
   "source": [
    "Load in the MNIST data for later compute."
   ],
   "metadata": {
    "collapsed": false
   }
  },
  {
   "cell_type": "code",
   "execution_count": 2,
   "outputs": [
    {
     "name": "stdout",
     "text": [
      "(50000, 785) (50000, 1) (10000, 785) (10000, 1) (10000, 785) (10000, 1)\n"
     ],
     "output_type": "stream"
    }
   ],
   "source": [
    "\n",
    "def readMNISTdata():\n",
    "    with open('data/t10k-images-idx3-ubyte', 'rb') as f:\n",
    "        magic, size = struct.unpack(\">II\", f.read(8))\n",
    "        nrows, ncols = struct.unpack(\">II\", f.read(8))\n",
    "        test_data = np.fromfile(f, dtype=np.dtype(np.uint8).newbyteorder('>'))\n",
    "        test_data = test_data.reshape((size, nrows * ncols))\n",
    "\n",
    "    with open('data/t10k-labels-idx1-ubyte', 'rb') as f:\n",
    "        magic, size = struct.unpack(\">II\", f.read(8))\n",
    "        test_labels = np.fromfile(f, dtype=np.dtype(np.uint8).newbyteorder('>'))\n",
    "        test_labels = test_labels.reshape((size, 1))\n",
    "\n",
    "    with open('data/train-images-idx3-ubyte', 'rb') as f:\n",
    "        magic, size = struct.unpack(\">II\", f.read(8))\n",
    "        nrows, ncols = struct.unpack(\">II\", f.read(8))\n",
    "        train_data = np.fromfile(f, dtype=np.dtype(np.uint8).newbyteorder('>'))\n",
    "        train_data = train_data.reshape((size, nrows * ncols))\n",
    "\n",
    "    with open('data/train-labels-idx1-ubyte', 'rb') as f:\n",
    "        magic, size = struct.unpack(\">II\", f.read(8))\n",
    "        train_labels = np.fromfile(f, dtype=np.dtype(np.uint8).newbyteorder('>'))\n",
    "        train_labels = train_labels.reshape((size, 1))\n",
    "\n",
    "    # augmenting a constant feature of 1 (absorbing the bias term)\n",
    "    train_data = np.concatenate(\n",
    "        (np.ones([train_data.shape[0], 1]), train_data), axis=1)\n",
    "    test_data = np.concatenate((np.ones([test_data.shape[0], 1]), test_data),\n",
    "                               axis=1)\n",
    "    np.random.seed(314)\n",
    "    np.random.shuffle(train_labels)\n",
    "    np.random.seed(314)\n",
    "    np.random.shuffle(train_data)\n",
    "\n",
    "    X_train = train_data[:50000] / 256\n",
    "    t_train = train_labels[:50000]\n",
    "\n",
    "    X_val = train_data[50000:] / 256\n",
    "    t_val = train_labels[50000:]\n",
    "\n",
    "    return X_train, t_train, X_val, t_val, test_data, test_labels\n",
    "\n",
    "\n",
    "X_train, t_train, X_val, t_val, X_test, t_test = readMNISTdata()\n",
    "\n",
    "print(X_train.shape, t_train.shape, X_val.shape, t_val.shape, X_test.shape, t_test.shape)\n"
   ],
   "metadata": {
    "collapsed": false,
    "pycharm": {
     "name": "#%%\n",
     "is_executing": false
    }
   }
  },
  {
   "cell_type": "markdown",
   "source": [
    "Various global configurations."
   ],
   "metadata": {
    "collapsed": false
   }
  },
  {
   "cell_type": "code",
   "execution_count": 10,
   "outputs": [],
   "source": [
    "N_class = 10\n",
    "\n",
    "# original defined hyper parameters\n",
    "# alpha = 0.1  # learning rate\n",
    "# batch_size = 100  # batch size\n",
    "# MaxIter = 50  # Maximum iteration\n",
    "# decay = 0.  # weight decay\n",
    "\n",
    "\n",
    "alpha = 0.4  # learning rate\n",
    "num_batches = 2\n",
    "batch_size = 50000 // num_batches \n",
    "MaxIter = 50  # Maximum iteration\n",
    "decay = 0.0  # weight decay\n",
    "\n",
    "lam = 0.4  # regularization loss multiplier\n",
    "verbose = True"
   ],
   "metadata": {
    "collapsed": false,
    "pycharm": {
     "name": "#%%\n",
     "is_executing": false
    }
   }
  },
  {
   "cell_type": "code",
   "execution_count": 11,
   "outputs": [],
   "source": [
    "\n",
    "def oneHotIt(Y):\n",
    "    \"\"\"Convert unidimensional array of labels into a one-hot variant\n",
    "    where the array is size m (examples) x n (classes).\"\"\"\n",
    "    m = Y.shape[0]\n",
    "    Y = Y[:,0]\n",
    "    OHX = scipy.sparse.csr_matrix((np.ones(m), (Y, np.array(range(m)))))\n",
    "    OHX = np.array(OHX.todense()).T\n",
    "    return OHX\n",
    "\n",
    "\n",
    "def softmax(z):\n",
    "    z -= np.max(z) + np.min(z)\n",
    "    sm = (np.exp(z).T / np.sum(np.exp(z),axis=1)).T\n",
    "    return sm\n",
    "\n",
    "\n",
    "def getLoss(w, x, y):\n",
    "    m = x.shape[0] #First we get the number of training examples\n",
    "    y_mat = oneHotIt(y) #Next we convert the integer class coding into a one-hot representation\n",
    "    scores = np.dot(x,w) #Then we compute raw class scores given our input and current weights\n",
    "    prob = softmax(scores) #Next we perform a softmax on these scores to get their probabilities\n",
    "    loss = (-1 / m) * np.sum(y_mat * np.log(prob)) + (lam/2)*np.sum(w*w) #We then find the loss of the probabilities\n",
    "    grad = (-1 / m) * np.dot(x.T, (y_mat - prob)) + lam*w #And compute the gradient for that loss\n",
    "    return loss, grad\n",
    "\n",
    "\n",
    "def getProbsAndPreds(someX, w):\n",
    "    probs = softmax(np.dot(someX, w))\n",
    "    preds = np.argmax(probs,axis=1)\n",
    "    return probs,preds\n",
    "\n",
    "\n",
    "# inspired by https://medium.com/@awjuliani/simple-softmax-in-python-tutorial-d6b4c4ed5c16\n",
    "# https://www.w3resource.com/numpy/manipulation/ndarray-flatten.php\n",
    "def getAccuracy(someX, someY, w):\n",
    "    prob, prede = getProbsAndPreds(someX,w)\n",
    "    someY = someY.flatten()\n",
    "    num_correct = np.sum(prede == someY)\n",
    "    num_incorrect = np.sum(prede != someY)\n",
    "    accuracy = num_correct/(num_correct+num_incorrect)\n",
    "    return accuracy, num_correct, num_incorrect\n",
    "\n",
    "\n",
    "def predict(x, w, t=None):\n",
    "    # X_new: Nsample x (d+1)\n",
    "    # W: (d+1) x K\n",
    "    \n",
    "    # TODO Your code here\n",
    "    y = np.matmul(x, w)\n",
    "    \n",
    "    t_hat = np.argmax(y, axis=1)\n",
    "    \n",
    "    m = x.shape[0] #First we get the number of training examples\n",
    "    y_mat = oneHotIt(t) #Next we convert the integer class coding into a one-hot representation\n",
    "    scores = np.dot(x,w) #Then we compute raw class scores given our input and current weights\n",
    "    prob = softmax(scores) #Next we perform a softmax on these scores to get their probabilities\n",
    "    loss = (-1 / m) * np.sum(y_mat * np.log(prob)) + (lam/2)*np.sum(w*w) # compute the loss\n",
    "    \n",
    "    # compute the mean-per class accuracy\n",
    "    acc = getAccuracy(x, t, w)\n",
    "    \n",
    "    return y, t_hat, loss, acc\n",
    "\n",
    "\n",
    "def train(X_train, t_train, X_val, t_val):\n",
    "    N_train = X_train.shape[0]\n",
    "    N_val = X_val.shape[0]\n",
    "\n",
    "    # TODO Your code here\n",
    "    \n",
    "    # initialization\n",
    "    w = np.zeros([X_train.shape[1], N_class])\n",
    "    # w: (d+1)x1\n",
    "\n",
    "    losses_train = []\n",
    "    acc_val = []\n",
    "    w_best = None\n",
    "    acc_best = 0\n",
    "    epoch_best = 0\n",
    "    \n",
    "    print(f\"running {int(np.ceil(N_train / batch_size))} batches of size {batch_size} over data size {X_train.shape[0]} for {MaxIter} epochs\")\n",
    "    for epoch in range(MaxIter):\n",
    "        loss_this_epoch = 0\n",
    "        for b in range(int(np.ceil(N_train / batch_size))):\n",
    "            X_batch = X_train[b * batch_size: (b + 1) * batch_size]\n",
    "            t_batch = t_train[b * batch_size: (b + 1) * batch_size]\n",
    "            loss_batch, grad = getLoss(w, X_batch, t_batch)\n",
    "            loss_this_epoch += loss_batch\n",
    "            \n",
    "            # gradient decent with simple weight decay\n",
    "            w = w - (alpha * grad) - (alpha * decay * w)\n",
    "   \n",
    "        # TODO: Your code here\n",
    "        # monitor model behavior after each epoch\n",
    "        \n",
    "        # 1. Compute the training loss by averaging loss_this_epoch    \n",
    "        loss_this_epoch = loss_this_epoch / (int(np.ceil(N_train/batch_size)))\n",
    "        val_acc, num_correct, num_incorrect = getAccuracy(X_val, t_val, w)\n",
    "        if verbose:\n",
    "            print(f\"epoch {epoch:>3}/{MaxIter:<2} loss:{loss_this_epoch:.18f} val_acc:{val_acc:.6f} correct|incorrect:{num_correct}|{num_incorrect}\")\n",
    "        losses_train.append(loss_this_epoch)\n",
    "\n",
    "        # 2. Perform validation on the validation test by the risk\n",
    "        # TODO: FIXED: Validation set should not be run in batches\n",
    "        acc_val.append(val_acc)\n",
    "        \n",
    "        # 3. Keep track of the best validation epoch, risk, and the weights\n",
    "        if acc_val[epoch] >= acc_best:\n",
    "            epoch_best = epoch\n",
    "            acc_best = acc_val[epoch]\n",
    "            w_best = w\n",
    "\n",
    "    # Return some variables as needed\n",
    "    return epoch_best, losses_train, acc_val, acc_best, w_best\n",
    "\n",
    "\n",
    "def plot_training_losses(losses_train):\n",
    "    fig = plt.figure()\n",
    "    plt.plot(losses_train, label=\"Training Losses\")\n",
    "    plt.title(\"Training Losses\")\n",
    "    plt.legend()\n",
    "    plt.xlabel('Number of epoch')\n",
    "    plt.ylabel('Training Loss')\n",
    "    plt.show()\n",
    "    \n",
    "    \n",
    "def plot_training_accuracy(acc_val):\n",
    "    fig = plt.figure()\n",
    "    plt.plot(acc_val, label=\"Validation Accuracy\")\n",
    "    plt.title(\"Validation Accuracy\")\n",
    "    plt.legend()\n",
    "    plt.xlabel('Number of epoch')\n",
    "    plt.ylabel('Validation Accuracy')\n",
    "    plt.show()\n",
    "    "
   ],
   "metadata": {
    "collapsed": false,
    "pycharm": {
     "name": "#%%\n",
     "is_executing": false
    }
   }
  },
  {
   "cell_type": "code",
   "execution_count": 12,
   "outputs": [
    {
     "name": "stdout",
     "text": [
      "running 2 batches of size 25000 over data size 50000 for 50 epochs\n",
      "epoch   0/50 loss:2.127264997218138554 val_acc:0.772800 correct|incorrect:7728|2272\n",
      "epoch   1/50 loss:1.738709922547925224 val_acc:0.792100 correct|incorrect:7921|2079\n",
      "epoch   2/50 loss:1.646921822060057217 val_acc:0.802100 correct|incorrect:8021|1979\n",
      "epoch   3/50 loss:1.623803158909894684 val_acc:0.807700 correct|incorrect:8077|1923\n",
      "epoch   4/50 loss:1.617326411463954061 val_acc:0.810700 correct|incorrect:8107|1893\n",
      "epoch   5/50 loss:1.615295377323858306 val_acc:0.813700 correct|incorrect:8137|1863\n",
      "epoch   6/50 loss:1.614583506426771287 val_acc:0.816400 correct|incorrect:8164|1836\n",
      "epoch   7/50 loss:1.614307247967438963 val_acc:0.817200 correct|incorrect:8172|1828\n",
      "epoch   8/50 loss:1.614190368866091463 val_acc:0.817900 correct|incorrect:8179|1821\n",
      "epoch   9/50 loss:1.614137328170585084 val_acc:0.818200 correct|incorrect:8182|1818\n",
      "epoch  10/50 loss:1.614111839776351198 val_acc:0.818900 correct|incorrect:8189|1811\n",
      "epoch  11/50 loss:1.614098977962488135 val_acc:0.818900 correct|incorrect:8189|1811\n",
      "epoch  12/50 loss:1.614092195535170582 val_acc:0.819100 correct|incorrect:8191|1809\n",
      "epoch  13/50 loss:1.614088469149235205 val_acc:0.819200 correct|incorrect:8192|1808\n",
      "epoch  14/50 loss:1.614086341722288820 val_acc:0.819200 correct|incorrect:8192|1808\n",
      "epoch  15/50 loss:1.614085083724414726 val_acc:0.819100 correct|incorrect:8191|1809\n",
      "epoch  16/50 loss:1.614084316370816063 val_acc:0.819100 correct|incorrect:8191|1809\n",
      "epoch  17/50 loss:1.614083835781612963 val_acc:0.819200 correct|incorrect:8192|1808\n",
      "epoch  18/50 loss:1.614083528223799302 val_acc:0.819200 correct|incorrect:8192|1808\n",
      "epoch  19/50 loss:1.614083328010786467 val_acc:0.819400 correct|incorrect:8194|1806\n",
      "epoch  20/50 loss:1.614083195954718164 val_acc:0.819400 correct|incorrect:8194|1806\n",
      "epoch  21/50 loss:1.614083107989507715 val_acc:0.819400 correct|incorrect:8194|1806\n",
      "epoch  22/50 loss:1.614083048965456957 val_acc:0.819400 correct|incorrect:8194|1806\n",
      "epoch  23/50 loss:1.614083009150227177 val_acc:0.819400 correct|incorrect:8194|1806\n",
      "epoch  24/50 loss:1.614082982190230275 val_acc:0.819400 correct|incorrect:8194|1806\n",
      "epoch  25/50 loss:1.614082963885845157 val_acc:0.819400 correct|incorrect:8194|1806\n",
      "epoch  26/50 loss:1.614082951435084068 val_acc:0.819400 correct|incorrect:8194|1806\n",
      "epoch  27/50 loss:1.614082942955444189 val_acc:0.819400 correct|incorrect:8194|1806\n",
      "epoch  28/50 loss:1.614082937175751242 val_acc:0.819400 correct|incorrect:8194|1806\n",
      "epoch  29/50 loss:1.614082933234498807 val_acc:0.819400 correct|incorrect:8194|1806\n",
      "epoch  30/50 loss:1.614082930546309580 val_acc:0.819400 correct|incorrect:8194|1806\n",
      "epoch  31/50 loss:1.614082928712717413 val_acc:0.819400 correct|incorrect:8194|1806\n",
      "epoch  32/50 loss:1.614082927462157091 val_acc:0.819400 correct|incorrect:8194|1806\n",
      "epoch  33/50 loss:1.614082926609406776 val_acc:0.819400 correct|incorrect:8194|1806\n",
      "epoch  34/50 loss:1.614082926028076681 val_acc:0.819400 correct|incorrect:8194|1806\n",
      "epoch  35/50 loss:1.614082925631906029 val_acc:0.819400 correct|incorrect:8194|1806\n",
      "epoch  36/50 loss:1.614082925362017917 val_acc:0.819400 correct|incorrect:8194|1806\n",
      "epoch  37/50 loss:1.614082925178231154 val_acc:0.819400 correct|incorrect:8194|1806\n",
      "epoch  38/50 loss:1.614082925053129003 val_acc:0.819400 correct|incorrect:8194|1806\n",
      "epoch  39/50 loss:1.614082924968009980 val_acc:0.819400 correct|incorrect:8194|1806\n",
      "epoch  40/50 loss:1.614082924910120731 val_acc:0.819400 correct|incorrect:8194|1806\n",
      "epoch  41/50 loss:1.614082924870767322 val_acc:0.819400 correct|incorrect:8194|1806\n",
      "epoch  42/50 loss:1.614082924844027378 val_acc:0.819400 correct|incorrect:8194|1806\n",
      "epoch  43/50 loss:1.614082924825865906 val_acc:0.819400 correct|incorrect:8194|1806\n",
      "epoch  44/50 loss:1.614082924813536213 val_acc:0.819400 correct|incorrect:8194|1806\n",
      "epoch  45/50 loss:1.614082924805169572 val_acc:0.819400 correct|incorrect:8194|1806\n",
      "epoch  46/50 loss:1.614082924799494334 val_acc:0.819400 correct|incorrect:8194|1806\n",
      "epoch  47/50 loss:1.614082924795646967 val_acc:0.819400 correct|incorrect:8194|1806\n",
      "epoch  48/50 loss:1.614082924793039053 val_acc:0.819400 correct|incorrect:8194|1806\n",
      "epoch  49/50 loss:1.614082924791272688 val_acc:0.819400 correct|incorrect:8194|1806\n",
      "best epoch: 49 acc:0.819400\n"
     ],
     "output_type": "stream"
    }
   ],
   "source": [
    "\n",
    "epoch_best, losses_train, acc_val, acc_best, W_best = train(X_train, t_train, X_val, t_val)\n",
    "\n",
    "print(f\"best epoch: {epoch_best} acc:{acc_best:.6f}\")\n"
   ],
   "metadata": {
    "collapsed": false,
    "pycharm": {
     "name": "#%%\n",
     "is_executing": false
    }
   }
  },
  {
   "cell_type": "markdown",
   "source": [
    "The learning curve of the training loss, where x-axis is the number of epochs,\n",
    "and y-axis is the training loss."
   ],
   "metadata": {
    "collapsed": false
   }
  },
  {
   "cell_type": "code",
   "execution_count": 13,
   "outputs": [
    {
     "data": {
      "text/plain": "<Figure size 432x288 with 1 Axes>",
      "image/png": "[encoded data removed]"
     },
     "metadata": {
      "needs_background": "light"
     },
     "output_type": "display_data"
    }
   ],
   "source": [
    "plot_training_losses(losses_train)"
   ],
   "metadata": {
    "collapsed": false,
    "pycharm": {
     "name": "#%%\n",
     "is_executing": false
    }
   }
  },
  {
   "cell_type": "markdown",
   "source": [
    "The accuracy curve, where x-axis is the number of epochs, and y-axis is the \n",
    "accuracy in decimal form (0.0-1.0)."
   ],
   "metadata": {
    "collapsed": false
   }
  },
  {
   "cell_type": "code",
   "execution_count": 14,
   "outputs": [
    {
     "data": {
      "text/plain": "<Figure size 432x288 with 1 Axes>",
      "image/png": "[encoded data removed]"
     },
     "metadata": {
      "needs_background": "light"
     },
     "output_type": "display_data"
    }
   ],
   "source": [
    "plot_training_accuracy(acc_val)"
   ],
   "metadata": {
    "collapsed": false,
    "pycharm": {
     "name": "#%%\n",
     "is_executing": false
    }
   }
  },
  {
   "cell_type": "markdown",
   "source": [
    "Getting accuracy of the learned model on the test set."
   ],
   "metadata": {
    "collapsed": false
   }
  },
  {
   "cell_type": "code",
   "execution_count": 15,
   "outputs": [
    {
     "name": "stdout",
     "text": [
      "tst_acc:0.829000 correct|incorrect:8290|1710\n"
     ],
     "output_type": "stream"
    },
    {
     "name": "stderr",
     "text": [
      "c:\\users\\nathan\\pycharmprojects\\cmput_466_coding_assignment_2\\.venv\\lib\\site-packages\\ipykernel_launcher.py:13: RuntimeWarning: overflow encountered in exp\n",
      "  del sys.path[0]\n",
      "c:\\users\\nathan\\pycharmprojects\\cmput_466_coding_assignment_2\\.venv\\lib\\site-packages\\ipykernel_launcher.py:13: RuntimeWarning: invalid value encountered in true_divide\n",
      "  del sys.path[0]\n"
     ],
     "output_type": "stream"
    }
   ],
   "source": [
    "\n",
    "acc_test, num_correct, num_incorrect = getAccuracy(X_test, t_test, W_best)\n",
    "print(f\"tst_acc:{acc_test:.6f} correct|incorrect:{num_correct}|{num_incorrect}\")\n"
   ],
   "metadata": {
    "collapsed": false,
    "pycharm": {
     "name": "#%%\n",
     "is_executing": false
    }
   }
  },
  {
   "cell_type": "markdown",
   "source": [
    "### Problem 2 Report\n",
    "\n",
    "Ask one meaningful scientific question yourself, design your experimental \n",
    "protocol, present results, and draw a conclusion.  "
   ],
   "metadata": {
    "collapsed": false,
    "pycharm": {
     "name": "#%% md\n"
    }
   }
  },
  {
   "cell_type": "markdown",
   "source": [
    "#### Scientific Question\n",
    "\n",
    "With proper tailoring of the hyperparameters:\n",
    "\n",
    "* ``alpha`` - learning rate\n",
    "* ``batch_size`` -  batch size\n",
    "* ``MaxIter`` - number of epochs\n",
    "* ``decay`` - weight decay\n",
    "* ``lam`` - regularization loss multiplier\n",
    "\n",
    "Can we obtain a accuracy better than 83% 83% on the test set?\n",
    "\n",
    "If so what is the most efficient method of maximizing accuracy performance \n",
    "given these configurations?\n",
    "\n",
    "Additionally, I see in my training accuracy it looks similar to a logarithmic\n",
    "curve approaching to 0.82, is there a possible way to prevent this limiting \n",
    "cap?\n",
    "\n",
    "#### Experimental Protocol\n",
    "\n",
    "Re-run the expirement tuning the hyperparamters "
   ],
   "metadata": {
    "collapsed": false,
    "pycharm": {
     "name": "#%% md\n"
    }
   }
  },
  {
   "cell_type": "markdown",
   "source": [
    "#### Experimental Results"
   ],
   "metadata": {
    "collapsed": false,
    "pycharm": {
     "name": "#%% md\n"
    }
   }
  },
  {
   "cell_type": "code",
   "execution_count": 9,
   "outputs": [
    {
     "name": "stdout",
     "text": [
      "(50000, 785) (50000, 1) (10000, 785) (10000, 1) (10000, 785) (10000, 1)\n",
      "running 16 batches of size 3125 over data size 50000 for 30 epochs\n",
      "trn_acc:0.898560 correct|incorrect:44928|5072\n",
      "val_acc:0.896200 correct|incorrect:8962|1038\n",
      "tst_acc:0.891500 correct|incorrect:8915|1085\n"
     ],
     "output_type": "stream"
    },
    {
     "data": {
      "text/plain": "<Figure size 432x288 with 1 Axes>",
      "image/png": "[encoded data removed]"
     },
     "metadata": {
      "needs_background": "light"
     },
     "output_type": "display_data"
    },
    {
     "data": {
      "text/plain": "<Figure size 432x288 with 1 Axes>",
      "image/png": "[encoded data removed]"
     },
     "metadata": {
      "needs_background": "light"
     },
     "output_type": "display_data"
    },
    {
     "name": "stderr",
     "text": [
      "c:\\users\\nathan\\pycharmprojects\\cmput_466_coding_assignment_2\\.venv\\lib\\site-packages\\ipykernel_launcher.py:13: RuntimeWarning: overflow encountered in exp\n",
      "  del sys.path[0]\n",
      "c:\\users\\nathan\\pycharmprojects\\cmput_466_coding_assignment_2\\.venv\\lib\\site-packages\\ipykernel_launcher.py:13: RuntimeWarning: invalid value encountered in true_divide\n",
      "  del sys.path[0]\n"
     ],
     "output_type": "stream"
    }
   ],
   "source": [
    "\n",
    "X_train, t_train, X_val, t_val, X_test, t_test = readMNISTdata()\n",
    "\n",
    "print(X_train.shape, t_train.shape, X_val.shape, t_val.shape, X_test.shape, t_test.shape)\n",
    "\n",
    "# # 88 test accuacy\n",
    "# alpha = 0.1  # learning rate\n",
    "# num_batches = 10\n",
    "# batch_size = 50000 // num_batches  # batch size\n",
    "# MaxIter = 50  # Maximum iteration\n",
    "# decay = 0.01  # weight decay\n",
    "# lam = 0.04  # regularization loss multiplier\n",
    "\n",
    "# 89.25 test accuacy\n",
    "# alpha = 0.3  # learning rate\n",
    "# num_batches = 10\n",
    "# batch_size = 50000 // num_batches  # batch size\n",
    "# MaxIter = 100  # Maximum iteration\n",
    "# decay = 0.02  # weight decay\n",
    "# lam = 0.00000003  # regularization loss multiplier\n",
    "# \n",
    "\n",
    "# 90.8 val accuracy 79 test accuacy\n",
    "# alpha = 0.4  # learning rate\n",
    "# num_batches = 20\n",
    "# batch_size = 50000 // num_batches  # batch size\n",
    "# MaxIter = 100  # Maximum iteration\n",
    "# decay = 0.0025  # weight decay\n",
    "# lam = 0.00000003  # regularization loss multiplier\n",
    "\n",
    "\n",
    "# # feels like over fitting\n",
    "\n",
    "# alpha = 0.3  # learning rate\n",
    "# num_batches = 10\n",
    "# batch_size = 50000 // num_batches  # batch size\n",
    "# MaxIter = 100  # Maximum iteration\n",
    "# decay = 0.002  # weight decay\n",
    "# lam = 0.0000003  # regularization loss multiplier\n",
    "\n",
    "\n",
    "# \n",
    "# def softmax(z):\n",
    "#     z -= np.max(z) + np.min(z)\n",
    "#     sm = (np.exp(z).T / np.sum(np.exp(z),axis=1)).T\n",
    "#     return sm\n",
    "\n",
    "\n",
    "\n",
    "# trn_acc:0.894380 correct|incorrect:44719|5281\n",
    "# val_acc:0.891500 correct|incorrect:8915|1085\n",
    "# tst_acc:0.894400 correct|incorrect:8944|1056\n",
    "# alpha = 0.36  # learning rate\n",
    "# num_batches = 10\n",
    "# batch_size = 50000 // num_batches  # batch size\n",
    "# MaxIter = 50  # Maximum iteration\n",
    "# decay = 0.014  # weight decay\n",
    "# lam = 0.00000003  # regularization loss multiplier\n",
    "# verbose = False\n",
    "\n",
    "# \n",
    "# trn_acc:0.899320 correct|incorrect:44966|5034\n",
    "# val_acc:0.896500 correct|incorrect:8965|1035\n",
    "# tst_acc:0.892700 correct|incorrect:8927|1073\n",
    "# alpha = 0.37  # learning rate\n",
    "# num_batches = 16\n",
    "# batch_size = 50000 // num_batches  # batch size\n",
    "# MaxIter = 200  # Maximum iteration\n",
    "# decay = 0.01  # weight decay\n",
    "# lam = 0.00000003  # regularization loss multiplier\n",
    "# verbose = False\n",
    "\n",
    "\n",
    "# trn_acc:0.899320 correct|incorrect:44966|5034\n",
    "# val_acc:0.896500 correct|incorrect:8965|1035\n",
    "# tst_acc:0.892700 correct|incorrect:8927|1073\n",
    "# good all round accuracy performance, good training performance with low number of iterations\n",
    "# alpha = 0.37  # learning rate\n",
    "# num_batches = 16\n",
    "# batch_size = 50000 // num_batches  # batch size\n",
    "# MaxIter = 75  # Maximum iteration\n",
    "# decay = 0.01  # weight decay\n",
    "# lam = 0.00000003  # regularization loss multiplier\n",
    "# verbose = False\n",
    "\n",
    "\n",
    "# trn_acc:0.898560 correct|incorrect:44928|5072\n",
    "# val_acc:0.896200 correct|incorrect:8962|1038\n",
    "# tst_acc:0.891500 correct|incorrect:8915|1085\n",
    "# \n",
    "# alpha = 0.4  # learning rate\n",
    "# num_batches = 16\n",
    "# batch_size = 50000 // num_batches  # batch size\n",
    "# MaxIter = 30  # Maximum iteration\n",
    "# decay = 0.01  # weight decay\n",
    "# lam = 0.000003  # regularization loss multiplier\n",
    "# verbose = False\n",
    "\n",
    "\n",
    "alpha = 0.4  # learning rate\n",
    "num_batches = 16\n",
    "batch_size = 50000 // num_batches  # batch size\n",
    "MaxIter = 30  # Maximum iteration\n",
    "decay = 0.01  # weight decay\n",
    "lam = 0.000003  # regularization loss multiplier\n",
    "verbose = False\n",
    "\n",
    "\n",
    "epoch_best, losses_train, acc_val, acc_best, W_best = train(X_train, t_train, X_val, t_val)\n",
    "plot_training_losses(losses_train)\n",
    "plot_training_accuracy(acc_val)\n",
    "\n",
    "acc, num_correct, num_incorrect = getAccuracy(X_train, t_train, W_best)\n",
    "print(f\"trn_acc:{acc:.6f} correct|incorrect:{num_correct}|{num_incorrect}\")\n",
    "acc, num_correct, num_incorrect = getAccuracy(X_val, t_val, W_best)\n",
    "print(f\"val_acc:{acc:.6f} correct|incorrect:{num_correct}|{num_incorrect}\")\n",
    "acc, num_correct, num_incorrect = getAccuracy(X_test, t_test, W_best)\n",
    "print(f\"tst_acc:{acc:.6f} correct|incorrect:{num_correct}|{num_incorrect}\")"
   ],
   "metadata": {
    "collapsed": false,
    "pycharm": {
     "name": "#%%\n",
     "is_executing": false
    }
   }
  },
  {
   "cell_type": "markdown",
   "source": [
    "#### Conclusion\n",
    "\n",
    "\n",
    "Tuning the hyperparamters as shown within the experimental results noted a \n",
    "increase in test accuracy from 83% to 89% which is a relatively good improvement."
   ],
   "metadata": {
    "collapsed": false,
    "pycharm": {
     "name": "#%% md\n"
    }
   }
  }
 ],
 "metadata": {
  "kernelspec": {
   "display_name": "Python 3",
   "language": "python",
   "name": "python3"
  },
  "language_info": {
   "codemirror_mode": {
    "name": "ipython",
    "version": 3
   },
   "file_extension": ".py",
   "mimetype": "text/x-python",
   "name": "python",
   "nbconvert_exporter": "python",
   "pygments_lexer": "ipython3",
   "version": "3.7.5"
  },
  "pycharm": {
   "stem_cell": {
    "cell_type": "raw",
    "source": [],
    "metadata": {
     "collapsed": false
    }
   }
  }
 },
 "nbformat": 4,
 "nbformat_minor": 1
}