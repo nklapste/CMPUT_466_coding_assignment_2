{
 "cells": [
  {
   "cell_type": "markdown",
   "source": [
    "# CMPUT 466/566, Winter 2020 Introduction to Machine learning \n",
    "## Coding Assignment 2 \n",
    "### Problem 1 Report\n",
    "By Nathan Klapstein #1449872"
   ],
   "metadata": {
    "collapsed": false
   }
  },
  {
   "cell_type": "code",
   "execution_count": 16,
   "outputs": [],
   "source": [
    "\n",
    "import struct\n",
    "\n",
    "import numpy as np\n",
    "\n",
    "import matplotlib.pyplot as plt\n",
    "import scipy\n",
    "from matplotlib.colors import ListedColormap\n",
    "from scipy.special import expit\n"
   ],
   "metadata": {
    "collapsed": false,
    "pycharm": {
     "name": "#%%\n",
     "is_executing": false
    }
   }
  },
  {
   "cell_type": "code",
   "execution_count": 17,
   "outputs": [],
   "source": [
    "def readMNISTdata():\n",
    "    with open('data/t10k-images-idx3-ubyte', 'rb') as f:\n",
    "        magic, size = struct.unpack(\">II\", f.read(8))\n",
    "        nrows, ncols = struct.unpack(\">II\", f.read(8))\n",
    "        test_data = np.fromfile(f, dtype=np.dtype(np.uint8).newbyteorder('>'))\n",
    "        test_data = test_data.reshape((size, nrows * ncols))\n",
    "\n",
    "    with open('data/t10k-labels-idx1-ubyte', 'rb') as f:\n",
    "        magic, size = struct.unpack(\">II\", f.read(8))\n",
    "        test_labels = np.fromfile(f, dtype=np.dtype(np.uint8).newbyteorder('>'))\n",
    "        test_labels = test_labels.reshape((size, 1))\n",
    "\n",
    "    with open('data/train-images-idx3-ubyte', 'rb') as f:\n",
    "        magic, size = struct.unpack(\">II\", f.read(8))\n",
    "        nrows, ncols = struct.unpack(\">II\", f.read(8))\n",
    "        train_data = np.fromfile(f, dtype=np.dtype(np.uint8).newbyteorder('>'))\n",
    "        train_data = train_data.reshape((size, nrows * ncols))\n",
    "\n",
    "    with open('data/train-labels-idx1-ubyte', 'rb') as f:\n",
    "        magic, size = struct.unpack(\">II\", f.read(8))\n",
    "        train_labels = np.fromfile(f, dtype=np.dtype(np.uint8).newbyteorder('>'))\n",
    "        train_labels = train_labels.reshape((size, 1))\n",
    "\n",
    "    # augmenting a constant feature of 1 (absorbing the bias term)\n",
    "    train_data = np.concatenate(\n",
    "        (np.ones([train_data.shape[0], 1]), train_data), axis=1)\n",
    "    test_data = np.concatenate((np.ones([test_data.shape[0], 1]), test_data),\n",
    "                               axis=1)\n",
    "    np.random.seed(314)\n",
    "    np.random.shuffle(train_labels)\n",
    "    np.random.seed(314)\n",
    "    np.random.shuffle(train_data)\n",
    "\n",
    "    X_train = train_data[:50000] / 256\n",
    "    t_train = train_labels[:50000]\n",
    "\n",
    "    X_val = train_data[50000:] / 256\n",
    "    t_val = train_labels[50000:]\n",
    "\n",
    "    return X_train, t_train, X_val, t_val, test_data, test_labels\n"
   ],
   "metadata": {
    "collapsed": false,
    "pycharm": {
     "name": "#%%\n",
     "is_executing": false
    }
   }
  },
  {
   "cell_type": "markdown",
   "source": [
    "Load in the MNIST data for later compute."
   ],
   "metadata": {
    "collapsed": false
   }
  },
  {
   "cell_type": "code",
   "execution_count": 18,
   "outputs": [],
   "source": [
    " X_train, t_train, X_val, t_val, X_test, t_test = readMNISTdata()"
   ],
   "metadata": {
    "collapsed": false,
    "pycharm": {
     "name": "#%%\n",
     "is_executing": false
    }
   }
  },
  {
   "cell_type": "markdown",
   "source": [
    "Gradient decent computation.\n",
    "\n",
    "Recycled and fixed from CMPUT 466 Coding Assignment 1."
   ],
   "metadata": {
    "collapsed": false
   }
  },
  {
   "cell_type": "code",
   "execution_count": 19,
   "outputs": [],
   "source": [
    "def gradient(X, w, y=None):\n",
    "    # TODO: FIXED:  Did not scale gradient by 1/M;\n",
    "    # TODO: CHECK: 1/M  this is 1/N_train or should be 1/X.shape[0]=1/batch_size\n",
    "    return (1/X.shape[0])*np.matmul(np.transpose(X), (np.matmul(X, w) - y))\n"
   ],
   "metadata": {
    "collapsed": false,
    "pycharm": {
     "name": "#%%\n",
     "is_executing": false
    }
   }
  },
  {
   "cell_type": "markdown",
   "source": [
    "Various global configurations."
   ],
   "metadata": {
    "collapsed": false
   }
  },
  {
   "cell_type": "code",
   "execution_count": 35,
   "outputs": [],
   "source": [
    "N_class = 10\n",
    "alpha = 0.4  # learning rate\n",
    "batch_size = 1000000  # batch size\n",
    "MaxIter = 50  # Maximum iteration\n",
    "decay = 0.  # weight decay"
   ],
   "metadata": {
    "collapsed": false,
    "pycharm": {
     "name": "#%%\n",
     "is_executing": false
    }
   }
  },
  {
   "cell_type": "markdown",
   "source": [
    "Mini-batch linear gradient decent.\n",
    "\n",
    "Recycled and fixed from CMPUT 466 Coding assignment 1."
   ],
   "metadata": {
    "collapsed": false
   }
  },
  {
   "cell_type": "code",
   "execution_count": 11,
   "outputs": [],
   "source": [],
   "metadata": {
    "collapsed": false,
    "pycharm": {
     "name": "#%%\n",
     "is_executing": false
    }
   }
  },
  {
   "cell_type": "code",
   "execution_count": 44,
   "outputs": [],
   "source": [
    "# def computeLoss(self, x, yMatrix):\n",
    "#    \"\"\"\n",
    "#    It calculates a cross-entropy loss with regularization loss and gradient to update the weights.\n",
    "#    :param x: An input sample\n",
    "#    :param yMatrix: Label as one-hot encoding\n",
    "#    :return:\n",
    "#    \"\"\"\n",
    "#    numOfSamples = x.shape[0]\n",
    "#    scores = np.dot(x, self.wt)\n",
    "#    prob = self.softmaxEquation(scores)\n",
    "# \n",
    "#    loss = -np.log(np.max(prob)) * yMatrix\n",
    "#    regLoss = (1/2)*self.regStrength*np.sum(self.wt*self.wt)\n",
    "#    totalLoss = (np.sum(loss) / numOfSamples) + regLoss\n",
    "#    grad = ((-1 / numOfSamples) * np.dot(x.T, (yMatrix - prob))) + (self.regStrength * self.wt)\n",
    "#    return totalLoss, grad\n",
    "\n",
    "def softmaxEquation(scores):\n",
    "    \"\"\"\n",
    "    It calculates a softmax probability\n",
    "    :param scores: A matrix(wt * input sample)\n",
    "    :return: softmax probability\n",
    "    \"\"\"\n",
    "    scores -= np.max(scores)\n",
    "    prob = (np.exp(scores).T / np.sum(np.exp(scores), axis=1)).T\n",
    "    return prob\n",
    "\n",
    "# \n",
    "# def meanAccuracy(self, x, y):\n",
    "#     \"\"\"\n",
    "#     It calculates mean-per class accuracy\n",
    "#     :param x: Input sample\n",
    "#     :param y: label sample\n",
    "#     :return: mean-per class accuracy\n",
    "#     \"\"\"\n",
    "#     predY = predict(x)\n",
    "#     predY = predY.reshape((-1, 1))  # convert to column vector\n",
    "#     return np.mean(np.equal(y, predY))\n",
    "# \n",
    "\n",
    "\n",
    "def oneHotIt(Y):\n",
    "    m = Y.shape[0]\n",
    "    Y = Y[:,0]\n",
    "    OHX = scipy.sparse.csr_matrix((np.ones(m), (Y, np.array(range(m)))))\n",
    "    OHX = np.array(OHX.todense()).T\n",
    "    return OHX\n",
    "\n",
    "\n",
    "def softmax(z):\n",
    "    z -= np.max(z)\n",
    "    sm = (np.exp(z).T / np.sum(np.exp(z),axis=1)).T\n",
    "    return sm\n",
    "\n",
    "\n",
    "def getLoss(w,x,y,lam):\n",
    "    m = x.shape[0] #First we get the number of training examples\n",
    "    y_mat = oneHotIt(y) #Next we convert the integer class coding into a one-hot representation\n",
    "    scores = np.dot(x,w) #Then we compute raw class scores given our input and current weights\n",
    "    prob = softmax(scores) #Next we perform a softmax on these scores to get their probabilities\n",
    "    loss = (-1 / m) * np.sum(y_mat * np.log(prob)) + (lam/2)*np.sum(w*w) #We then find the loss of the probabilities\n",
    "    # print(x.shape)\n",
    "    # print(y.shape)\n",
    "    # print(y_mat.shape)\n",
    "    # print(y_mat)\n",
    "    # print(prob.shape)\n",
    "    print(y_mat[0])\n",
    "    print(prob[0])\n",
    "    print(np.sum(prob[0]))\n",
    "    # print(w.shape)\n",
    "    grad = (-1 / m) * np.dot(x.T, (y_mat - prob)) + lam*w #And compute the gradient for that loss\n",
    "    # print(grad.shape)\n",
    "    return loss, grad\n",
    "\n",
    "\n",
    "\n",
    "\n",
    "\n",
    "def getProbsAndPreds(someX, w):\n",
    "    probs = softmax(np.dot(someX, w))\n",
    "    preds = np.argmax(probs,axis=1)\n",
    "    return probs,preds\n",
    "\n",
    "\n",
    "# inspired by https://medium.com/@awjuliani/simple-softmax-in-python-tutorial-d6b4c4ed5c16\n",
    "# https://www.w3resource.com/numpy/manipulation/ndarray-flatten.php\n",
    "def getAccuracy(someX,someY,w):\n",
    "    prob,prede = getProbsAndPreds(someX,w)\n",
    "    someY = someY.flatten()\n",
    "    # print(prede, someY)\n",
    "    # print(prede.shape, someY.shape)\n",
    "    num_correct = np.sum(prede == someY)\n",
    "    num_incorrect = np.sum(prede != someY)\n",
    "    # print(num_correct)\n",
    "    # print(num_incorrect)\n",
    "    accuracy = num_correct/(num_correct+num_incorrect)\n",
    "    return accuracy\n",
    "\n",
    "\n",
    "def predict(X, W, t=None):\n",
    "    # X_new: Nsample x (d+1)\n",
    "    # W: (d+1) x K\n",
    "    \n",
    "    reg = 0.001\n",
    "    # TODO Your code here\n",
    "    y = np.matmul(X, W)\n",
    "    \n",
    "    # y = np.argmax(X.dot(W), 1)\n",
    "    t_hat = np.argmax(y, axis=1)\n",
    "    num_of_samples = X.shape[0]\n",
    "\n",
    "    z = np.dot(X, W)\n",
    "    z -= np.max(z, axis=0)  # Max trick for the softmax, preventing infinite values\n",
    "    y_prob = np.exp(z) / np.sum(np.exp(z)) \n",
    "    # ~z_i = z_i - z_max_i\n",
    "    # exp_z = np.exp(z - np.max(z, axis=0) + np.min(z, axis=0))\n",
    "    # p = exp_z / np.sum(exp_z, axis=0) # softmax \n",
    "    # p = softmaxEquation(z)\n",
    "     \n",
    "    # compute the loss\n",
    "    loss = -np.log(np.max(y_prob)) * t\n",
    "    reg_loss = 0.5  * reg * np.sum(np.multiply(W, W))  # Regularization term\n",
    "    cross_entropy_loss =  (1 / num_of_samples) * (np.sum(loss)) \n",
    "    total_loss = cross_entropy_loss + reg_loss\n",
    "    # total_loss = cross_entropy_loss\n",
    "    \n",
    "    # compute the mean-per class accuracy\n",
    "    acc = getAccuracy(X, t, W)\n",
    "    \n",
    "    # Calculation of dW (gradient)\n",
    "    grad = ((-1 / num_of_samples) * np.dot(X.T, (t - y_prob))) + (reg * W)\n",
    "    \n",
    "    \n",
    "    return y, t_hat, total_loss, acc, grad\n",
    "\n",
    "\n",
    "\n",
    "def train(X_train, t_train, X_val, t_val):\n",
    "    N_train = X_train.shape[0]\n",
    "    N_val = X_val.shape[0]\n",
    "\n",
    "    # TODO Your code here\n",
    "    \n",
    "    # initialization\n",
    "    w = np.zeros([X_train.shape[1], N_class])\n",
    "    # w: (d+1)x1\n",
    "\n",
    "    losses_train = []\n",
    "    acc_val = []\n",
    "    w_best = None\n",
    "    acc_best = 0\n",
    "    epoch_best = 0\n",
    "    \n",
    "    # TODO: figure this shit out\n",
    "    lam = 0.4\n",
    "\n",
    "\n",
    "    for epoch in range(MaxIter):\n",
    "        loss_this_epoch = 0\n",
    "        for b in range(int(np.ceil(N_train / batch_size))):\n",
    "            X_batch = X_train[b * batch_size: (b + 1) * batch_size]\n",
    "            t_batch = t_train[b * batch_size: (b + 1) * batch_size]\n",
    "            loss_batch, grad = getLoss(w, X_batch, t_batch, lam)\n",
    "            loss_this_epoch += loss_batch\n",
    "            # TODO: grad is wrong shape (785,10) when it should be (785,1)\n",
    "            if b ==5:\n",
    "                return\n",
    "            w = w - (alpha * grad)\n",
    "            # y_hat_batch, t_hat, loss_batch, acc, grad = predict(X_batch, w, t_batch)\n",
    "            # # print(loss_batch)\n",
    "            # loss_this_epoch += loss_batch\n",
    "            # # TODO: Your code here\n",
    "            # # Mini-batch gradient descent\n",
    "            # #TODO: FIX: scale gradient with 1/M\n",
    "            # # w = w - alpha * gradient(X_batch, w, y_hat_batch)\n",
    "            # w -= alpha * grad\n",
    "   \n",
    "        # TODO: Your code here\n",
    "        # monitor model behavior after each epoch\n",
    "        \n",
    "        # 1. Compute the training loss by averaging loss_this_epoch\n",
    "        #         losses_train.append(loss_this_epoch/int(np.ceil(N_train/batch_size)))\n",
    "        \n",
    "    \n",
    "        loss_this_epoch = loss_this_epoch / (int(np.ceil(batch_size)))\n",
    "        val_acc = getAccuracy(X_val, t_val, w)\n",
    "        print(f\"epoch {epoch}/{MaxIter} loss: {loss_this_epoch} val_acc:{val_acc}\")\n",
    "        \n",
    "        # test_acc = getAccuracy(X_train, t_train, w)\n",
    "        # print(f\"est_acc:{test_acc} val_acc:{val_acc}\")\n",
    "        losses_train.append(loss_this_epoch)\n",
    "        #print(f\"epoch={epoch} training loss={loss_this_epoch/  (int(np.ceil(N_train/batch_size)))}\")\n",
    "\n",
    "        # 2. Perform validation on the validation test by the risk\n",
    "        # risk_this_epoch = 0\n",
    "        # for c in range(int(np.ceil(N_val / batch_size))):\n",
    "        #     X_val_batch = X_val[c * batch_size: (c + 1) * batch_size]\n",
    "        #     y_val_batch = y_val[c * batch_size: (c + 1) * batch_size]\n",
    "        #     _, _, risk = predict(X_val_batch, w, y_val_batch)\n",
    "        #     risk_this_epoch += risk\n",
    "        # TODO: FIXED: Validation set should not be run in batches\n",
    "        # y, t_hat, _, acc, grad = predict(X_val, w, t_val)\n",
    "        acc_val.append(val_acc)\n",
    "        \n",
    "        # 3. Keep track of the best validation epoch, risk, and the weights\n",
    "        if acc_val[epoch] >= acc_best:\n",
    "            epoch_best = epoch\n",
    "            acc_best = acc_val[epoch]\n",
    "            w_best = w\n",
    "\n",
    "    # Return some variables as needed\n",
    "    return epoch_best, losses_train, acc_val, acc_best, w_best\n"
   ],
   "metadata": {
    "collapsed": false,
    "pycharm": {
     "name": "#%%\n",
     "is_executing": false
    }
   }
  },
  {
   "cell_type": "code",
   "execution_count": 45,
   "outputs": [
    {
     "name": "stdout",
     "text": [
      "(50000, 785) (50000, 1) (10000, 785) (10000, 1) (10000, 785) (10000, 1)\n",
      "[0. 0. 0. 1. 0. 0. 0. 0. 0. 0.]\n",
      "[0.1 0.1 0.1 0.1 0.1 0.1 0.1 0.1 0.1 0.1]\n",
      "1.0\n",
      "epoch 0/50 loss: 2.3025850929940443e-06 val_acc:0.665\n",
      "[0. 0. 0. 1. 0. 0. 0. 0. 0. 0.]\n",
      "[0.11149817 0.06076857 0.0681313  0.14819635 0.07981978 0.09037112\n",
      " 0.08194523 0.11309085 0.12941517 0.11676347]\n",
      "1.0\n",
      "epoch 1/50 loss: 1.951664044804229e-06 val_acc:0.7719\n",
      "[0. 0. 0. 1. 0. 0. 0. 0. 0. 0.]\n",
      "[0.06877572 0.07193152 0.04621658 0.15421728 0.08600277 0.12002405\n",
      " 0.06917613 0.14715406 0.10183931 0.13466258]\n",
      "1.0\n",
      "epoch 2/50 loss: 1.7791795022920606e-06 val_acc:0.7714\n",
      "[0. 0. 0. 1. 0. 0. 0. 0. 0. 0.]\n",
      "[0.07273218 0.06188347 0.03523528 0.17629867 0.07485062 0.12052151\n",
      " 0.05802757 0.14639006 0.1170793  0.13698133]\n",
      "0.9999999999999999\n",
      "epoch 3/50 loss: 1.6959260212888437e-06 val_acc:0.7928\n",
      "[0. 0. 0. 1. 0. 0. 0. 0. 0. 0.]\n",
      "[0.05489202 0.05880338 0.0294507  0.18196919 0.07484334 0.13772169\n",
      " 0.05423133 0.16047063 0.10056577 0.14705194]\n",
      "1.0\n",
      "epoch 4/50 loss: 1.6551098477575747e-06 val_acc:0.7947\n",
      "[0. 0. 0. 1. 0. 0. 0. 0. 0. 0.]\n",
      "[0.05889816 0.05510292 0.02491815 0.18809744 0.07001408 0.13881438\n",
      " 0.04852599 0.15939397 0.10868062 0.14755428]\n",
      "0.9999999999999999\n",
      "epoch 5/50 loss: 1.6346090434098395e-06 val_acc:0.8026\n",
      "[0. 0. 0. 1. 0. 0. 0. 0. 0. 0.]\n",
      "[0.05102841 0.05274617 0.02301076 0.1949793  0.06854693 0.14836794\n",
      " 0.04734275 0.16387508 0.09828713 0.15181553]\n",
      "0.9999999999999999\n",
      "epoch 6/50 loss: 1.624113141115669e-06 val_acc:0.8051\n",
      "[0. 0. 0. 1. 0. 0. 0. 0. 0. 0.]\n",
      "[0.05346027 0.05124918 0.02094623 0.19499887 0.06651253 0.14878326\n",
      " 0.04462334 0.1637889  0.10332032 0.15231709]\n",
      "1.0\n",
      "epoch 7/50 loss: 1.6186032515847664e-06 val_acc:0.8087\n",
      "[0. 0. 0. 1. 0. 0. 0. 0. 0. 0.]\n",
      "[0.04986723 0.05001853 0.02018785 0.20100282 0.06524218 0.15388862\n",
      " 0.04415171 0.16509797 0.09648819 0.1540549 ]\n",
      "1.0\n",
      "epoch 8/50 loss: 1.6156542514547504e-06 val_acc:0.8104\n",
      "[0. 0. 0. 1. 0. 0. 0. 0. 0. 0.]\n",
      "[0.05117737 0.04938712 0.01920035 0.19948323 0.06429375 0.15407608\n",
      " 0.04291406 0.16516863 0.09994847 0.15435094]\n",
      "0.9999999999999999\n",
      "epoch 9/50 loss: 1.6140390914197145e-06 val_acc:0.8125\n",
      "[0. 0. 0. 1. 0. 0. 0. 0. 0. 0.]\n",
      "[0.04950254 0.04879275 0.01886098 0.20389321 0.06347251 0.15670962\n",
      " 0.04268743 0.16554561 0.09536628 0.15516907]\n",
      "1.0\n",
      "epoch 10/50 loss: 1.613137331664936e-06 val_acc:0.8135\n",
      "[0. 0. 0. 1. 0. 0. 0. 0. 0. 0.]\n",
      "[0.05018014 0.04852263 0.01837165 0.20232145 0.06297591 0.15683684\n",
      " 0.04213883 0.16557693 0.09782543 0.1552502 ]\n",
      "0.9999999999999998\n",
      "epoch 11/50 loss: 1.6126230537501062e-06 val_acc:0.8145\n",
      "[0. 0. 0. 1. 0. 0. 0. 0. 0. 0.]\n",
      "[0.0493879  0.04824712 0.01821283 0.20533918 0.06249279 0.15817801\n",
      " 0.04202809 0.16566612 0.09473534 0.15571261]\n",
      "0.9999999999999999\n",
      "epoch 12/50 loss: 1.6123244823052373e-06 val_acc:0.8157\n",
      "[0. 0. 0. 1. 0. 0. 0. 0. 0. 0.]\n",
      "[0.04973122 0.04813236 0.01796285 0.20407011 0.06221335 0.15826833\n",
      " 0.04179032 0.1656681  0.09648961 0.15567374]\n",
      "1.0\n",
      "epoch 13/50 loss: 1.6121478547590488e-06 val_acc:0.8161\n",
      "[0. 0. 0. 1. 0. 0. 0. 0. 0. 0.]\n",
      "[0.04935144 0.04800993 0.01788893 0.20607897 0.06193754 0.15895373\n",
      " 0.04174047 0.1656657  0.09440331 0.15596998]\n",
      "0.9999999999999999\n",
      "epoch 14/50 loss: 1.612041766496415e-06 val_acc:0.8168\n",
      "[0. 0. 0. 1. 0. 0. 0. 0. 0. 0.]\n",
      "[0.04952325 0.04796279 0.0177577  0.205134   0.06177493 0.15901153\n",
      " 0.04164123 0.16565836 0.09564985 0.15588636]\n",
      "1.0000000000000002\n",
      "epoch 15/50 loss: 1.611977047678842e-06 val_acc:0.8174\n",
      "[0. 0. 0. 1. 0. 0. 0. 0. 0. 0.]\n",
      "[0.0493384  0.04791165 0.0177248  0.20645888 0.06161822 0.15936595\n",
      " 0.04162231 0.16563129 0.09424046 0.15608805]\n",
      "1.0\n",
      "epoch 16/50 loss: 1.6119370897967837e-06 val_acc:0.818\n",
      "[0. 0. 0. 1. 0. 0. 0. 0. 0. 0.]\n",
      "[0.04942373 0.0478938  0.01765416 0.2057791  0.0615222  0.15939852\n",
      " 0.04158402 0.16562332 0.09512172 0.15599945]\n",
      "1.0\n",
      "epoch 17/50 loss: 1.6119121177245892e-06 val_acc:0.8181\n",
      "[0. 0. 0. 1. 0. 0. 0. 0. 0. 0.]\n",
      "[0.04933207 0.0478748  0.01764092 0.20665182 0.06143266 0.15958464\n",
      " 0.04157954 0.16559472 0.09416889 0.15613996]\n",
      "1.0\n",
      "epoch 18/50 loss: 1.611896370279385e-06 val_acc:0.8186\n",
      "[0. 0. 0. 1. 0. 0. 0. 0. 0. 0.]\n",
      "[0.04937427 0.04786932 0.01760197 0.20617095 0.06137551 0.1596003\n",
      " 0.04156733 0.16558863 0.09478899 0.15606272]\n",
      "1.0\n",
      "epoch 19/50 loss: 1.6118863483953785e-06 val_acc:0.8187\n",
      "[0. 0. 0. 1. 0. 0. 0. 0. 0. 0.]\n",
      "[0.04932778 0.04786414 0.01759782 0.20674725 0.06132385 0.15969969\n",
      " 0.04156878 0.16556534 0.09414419 0.15616115]\n",
      "1.0\n",
      "epoch 20/50 loss: 1.6118799282271111e-06 val_acc:0.8192\n",
      "[0. 0. 0. 1. 0. 0. 0. 0. 0. 0.]\n",
      "[0.04934864 0.04786359 0.01757582 0.20641013 0.06128963 0.15970533\n",
      " 0.04156709 0.16556135 0.09457877 0.15609965]\n",
      "1.0000000000000002\n",
      "epoch 21/50 loss: 1.6118757871646076e-06 val_acc:0.8193\n",
      "[0. 0. 0. 1. 0. 0. 0. 0. 0. 0.]\n",
      "[0.04932441 0.04786388 0.01757561 0.20679221 0.06125948 0.15975932\n",
      " 0.04157041 0.16554424 0.09414193 0.15616851]\n",
      "1.0\n",
      "epoch 22/50 loss: 1.611873103211103e-06 val_acc:0.8193\n",
      "[0. 0. 0. 1. 0. 0. 0. 0. 0. 0.]\n",
      "[0.04933475 0.04786504 0.01756288 0.20655709 0.06123884 0.15975967\n",
      " 0.04157243 0.1655419  0.09444546 0.15612194]\n",
      "0.9999999999999999\n",
      "epoch 23/50 loss: 1.6118713547165584e-06 val_acc:0.8193\n",
      "[0. 0. 0. 1. 0. 0. 0. 0. 0. 0.]\n",
      "[0.04932173 0.04786713 0.01756414 0.20681154 0.06122103 0.1597895\n",
      " 0.04157586 0.16552998 0.09414917 0.15616993]\n",
      "1.0\n",
      "epoch 24/50 loss: 1.6118702115001776e-06 val_acc:0.8197\n",
      "[0. 0. 0. 1. 0. 0. 0. 0. 0. 0.]\n",
      "[0.04932688 0.04786867 0.01755661 0.20664809 0.06120848 0.15978747\n",
      " 0.04157875 0.16552875 0.09436056 0.15613572]\n",
      "0.9999999999999998\n",
      "epoch 25/50 loss: 1.6118694610968176e-06 val_acc:0.8195\n",
      "[0. 0. 0. 1. 0. 0. 0. 0. 0. 0.]\n",
      "[0.04931966 0.04787104 0.01755822 0.20681828 0.06119783 0.15980424\n",
      " 0.04158166 0.1655207  0.09415936 0.15616902]\n",
      "1.0\n",
      "epoch 26/50 loss: 1.6118689671452134e-06 val_acc:0.8198\n",
      "[0. 0. 0. 1. 0. 0. 0. 0. 0. 0.]\n",
      "[0.04932225 0.04787246 0.01755366 0.20670491 0.06119014 0.15980145\n",
      " 0.04158435 0.16552016 0.09430623 0.15614438]\n",
      "1.0\n",
      "epoch 27/50 loss: 1.611868641000408e-06 val_acc:0.8197\n",
      "[0. 0. 0. 1. 0. 0. 0. 0. 0. 0.]\n",
      "[0.04931811 0.04787455 0.01755516 0.20681921 0.06118368 0.15981103\n",
      " 0.04158659 0.16551481 0.09416946 0.1561674 ]\n",
      "1.0\n",
      "epoch 28/50 loss: 1.6118684251646362e-06 val_acc:0.8199\n",
      "[0. 0. 0. 1. 0. 0. 0. 0. 0. 0.]\n",
      "[0.04931943 0.04787571 0.01755235 0.2067407  0.06117892 0.15980828\n",
      " 0.04158876 0.16551466 0.0942713  0.15614988]\n",
      "1.0000000000000002\n",
      "epoch 29/50 loss: 1.611868281973504e-06 val_acc:0.8199\n",
      "[0. 0. 0. 1. 0. 0. 0. 0. 0. 0.]\n",
      "[0.04931698 0.04787737 0.01755359 0.20681773 0.06117496 0.15981386\n",
      " 0.04159041 0.16551115 0.09417822 0.15616574]\n",
      "1.0000000000000002\n",
      "epoch 30/50 loss: 1.6118681867961127e-06 val_acc:0.82\n",
      "[0. 0. 0. 1. 0. 0. 0. 0. 0. 0.]\n",
      "[0.04931767 0.04787826 0.01755182 0.20676344 0.06117198 0.15981149\n",
      " 0.04159203 0.1655112  0.09424872 0.15615338]\n",
      "1.0000000000000002\n",
      "epoch 31/50 loss: 1.6118681234021232e-06 val_acc:0.82\n",
      "[0. 0. 0. 1. 0. 0. 0. 0. 0. 0.]\n",
      "[0.04931617 0.04787951 0.01755279 0.20681551 0.06116952 0.15981479\n",
      " 0.04159321 0.1655089  0.09418531 0.15616428]\n",
      "1.0\n",
      "epoch 32/50 loss: 1.611868081108695e-06 val_acc:0.82\n",
      "[0. 0. 0. 1. 0. 0. 0. 0. 0. 0.]\n",
      "[0.04931654 0.04788017 0.01755166 0.20677801 0.06116764 0.15981289\n",
      " 0.04159438 0.16550904 0.09423404 0.15615562]\n",
      "0.9999999999999999\n",
      "epoch 33/50 loss: 1.6118680528429351e-06 val_acc:0.82\n",
      "[0. 0. 0. 1. 0. 0. 0. 0. 0. 0.]\n",
      "[0.0493156  0.04788109 0.01755238 0.2068133  0.06116609 0.15981488\n",
      " 0.04159519 0.16550755 0.09419082 0.15616309]\n",
      "1.0000000000000002\n",
      "epoch 34/50 loss: 1.6118680339249542e-06 val_acc:0.82\n",
      "[0. 0. 0. 1. 0. 0. 0. 0. 0. 0.]\n",
      "[0.04931581 0.04788156 0.01755165 0.20678743 0.0611649  0.15981342\n",
      " 0.04159602 0.16550771 0.09422446 0.15615705]\n",
      "1.0000000000000002\n",
      "epoch 35/50 loss: 1.6118680212440066e-06 val_acc:0.82\n",
      "[0. 0. 0. 1. 0. 0. 0. 0. 0. 0.]\n",
      "[0.04931521 0.04788222 0.01755218 0.2068114  0.06116391 0.15981465\n",
      " 0.04159658 0.16550673 0.09419497 0.15616217]\n",
      "0.9999999999999998\n",
      "epoch 36/50 loss: 1.611868012732812e-06 val_acc:0.82\n",
      "[0. 0. 0. 1. 0. 0. 0. 0. 0. 0.]\n",
      "[0.04931532 0.04788256 0.0175517  0.20679355 0.06116314 0.15981356\n",
      " 0.04159715 0.16550688 0.09421817 0.15615796]\n",
      "1.0\n",
      "epoch 37/50 loss: 1.6118680070125624e-06 val_acc:0.82\n",
      "[0. 0. 0. 1. 0. 0. 0. 0. 0. 0.]\n",
      "[0.04931493 0.04788302 0.01755208 0.20680986 0.06116251 0.15981433\n",
      " 0.04159753 0.16550625 0.09419803 0.15616146]\n",
      "1.0\n",
      "epoch 38/50 loss: 1.611868003163544e-06 val_acc:0.82\n",
      "[0. 0. 0. 1. 0. 0. 0. 0. 0. 0.]\n",
      "[0.049315   0.04788326 0.01755176 0.20679757 0.06116201 0.15981355\n",
      " 0.04159792 0.16550638 0.09421402 0.15615854]\n",
      "1.0\n",
      "epoch 39/50 loss: 1.6118680005705018e-06 val_acc:0.82\n",
      "[0. 0. 0. 1. 0. 0. 0. 0. 0. 0.]\n",
      "[0.04931474 0.04788358 0.01755203 0.20680869 0.0611616  0.15981404\n",
      " 0.04159817 0.16550597 0.09420027 0.15616092]\n",
      "1.0\n",
      "epoch 40/50 loss: 1.6118679988217125e-06 val_acc:0.82\n",
      "[0. 0. 0. 1. 0. 0. 0. 0. 0. 0.]\n",
      "[0.04931478 0.04788375 0.01755182 0.20680022 0.06116127 0.15981348\n",
      " 0.04159843 0.16550607 0.09421128 0.1561589 ]\n",
      "1.0\n",
      "epoch 41/50 loss: 1.6118679976410096e-06 val_acc:0.82\n",
      "[0. 0. 0. 1. 0. 0. 0. 0. 0. 0.]\n",
      "[0.04931461 0.04788398 0.01755201 0.20680781 0.061161   0.1598138\n",
      " 0.0415986  0.1655058  0.09420187 0.15616053]\n",
      "0.9999999999999998\n",
      "epoch 42/50 loss: 1.6118679968430594e-06 val_acc:0.82\n",
      "[0. 0. 0. 1. 0. 0. 0. 0. 0. 0.]\n",
      "[0.04931464 0.04788409 0.01755186 0.20680199 0.06116078 0.1598134\n",
      " 0.04159878 0.16550588 0.09420945 0.15615913]\n",
      "0.9999999999999999\n",
      "epoch 43/50 loss: 1.6118679963032436e-06 val_acc:0.82\n",
      "[0. 0. 0. 1. 0. 0. 0. 0. 0. 0.]\n",
      "[0.04931452 0.04788425 0.017552   0.20680717 0.06116061 0.15981361\n",
      " 0.04159889 0.1655057  0.09420302 0.15616024]\n",
      "1.0\n",
      "epoch 44/50 loss: 1.6118679959377189e-06 val_acc:0.82\n",
      "[0. 0. 0. 1. 0. 0. 0. 0. 0. 0.]\n",
      "[0.04931454 0.04788432 0.0175519  0.20680316 0.06116046 0.15981333\n",
      " 0.04159901 0.16550577 0.09420823 0.15615927]\n",
      "0.9999999999999999\n",
      "epoch 45/50 loss: 1.6118679956899848e-06 val_acc:0.82\n",
      "[0. 0. 0. 1. 0. 0. 0. 0. 0. 0.]\n",
      "[0.04931446 0.04788443 0.01755199 0.2068067  0.06116035 0.15981348\n",
      " 0.04159909 0.16550565 0.09420383 0.15616002]\n",
      "1.0\n",
      "epoch 46/50 loss: 1.611867995521937e-06 val_acc:0.82\n",
      "[0. 0. 0. 1. 0. 0. 0. 0. 0. 0.]\n",
      "[0.04931447 0.04788449 0.01755193 0.20680395 0.06116025 0.15981328\n",
      " 0.04159917 0.1655057  0.09420741 0.15615935]\n",
      "1.0\n",
      "epoch 47/50 loss: 1.6118679954078474e-06 val_acc:0.82\n",
      "[0. 0. 0. 1. 0. 0. 0. 0. 0. 0.]\n",
      "[0.04931441 0.04788456 0.01755199 0.20680638 0.06116017 0.15981338\n",
      " 0.04159922 0.16550562 0.0942044  0.15615987]\n",
      "1.0\n",
      "epoch 48/50 loss: 1.611867995330328e-06 val_acc:0.82\n",
      "[0. 0. 0. 1. 0. 0. 0. 0. 0. 0.]\n",
      "[0.04931442 0.0478846  0.01755195 0.20680448 0.06116011 0.15981325\n",
      " 0.04159927 0.16550565 0.09420686 0.15615941]\n",
      "0.9999999999999999\n",
      "epoch 49/50 loss: 1.6118679952776153e-06 val_acc:0.82\n",
      "At epoch 49 val:  0.82\n",
      "The accuracy best epoch with val set is 0.8200000000\n"
     ],
     "output_type": "stream"
    }
   ],
   "source": [
    "print(X_train.shape, t_train.shape, X_val.shape, t_val.shape, X_test.shape,\n",
    "      t_test.shape)\n",
    "\n",
    "\n",
    "epoch_best, losses_train, acc_val, acc_best, W_best = train(X_train, t_train, X_val, t_val)\n",
    "\n",
    "\n",
    "print('At epoch', epoch_best, 'val: ', acc_best,)\n",
    "print(f\"The accuracy best epoch with val set is {acc_best:10.10f}\")"
   ],
   "metadata": {
    "collapsed": false,
    "pycharm": {
     "name": "#%%\n",
     "is_executing": false
    }
   }
  },
  {
   "cell_type": "markdown",
   "source": [
    "The learning curve of the training loss, where x-axis is the number of epochs,\n",
    "and y-axis is the training loss."
   ],
   "metadata": {
    "collapsed": false
   }
  },
  {
   "cell_type": "code",
   "execution_count": 46,
   "outputs": [
    {
     "data": {
      "text/plain": "<Figure size 432x288 with 1 Axes>",
      "image/png": "[encoded data removed]"
     },
     "metadata": {
      "needs_background": "light"
     },
     "output_type": "display_data"
    }
   ],
   "source": [
    "\"\"# part a.plot.1\n",
    "fig = plt.figure()\n",
    "plt.plot(losses_train, label=\"Training Losses\")\n",
    "plt.title(\"Training Losses\")\n",
    "plt.legend()\n",
    "plt.xlabel('Number of epoch')\n",
    "plt.ylabel('Training Loss')\n",
    "plt.show()"
   ],
   "metadata": {
    "collapsed": false,
    "pycharm": {
     "name": "#%%\n",
     "is_executing": false
    }
   }
  },
  {
   "cell_type": "markdown",
   "source": [
    "Doing predictions on the test set."
   ],
   "metadata": {
    "collapsed": false
   }
  },
  {
   "cell_type": "code",
   "execution_count": 52,
   "outputs": [
    {
     "name": "stdout",
     "text": [
      "At epoch 49 val:  0.82 test: 0.7843\n",
      "The loss of best epoch with test data is  10.5465372016\n",
      "The accuracy best epoch with test set is 0.7843000000\n"
     ],
     "output_type": "stream"
    },
    {
     "name": "stderr",
     "text": [
      "c:\\users\\nathan\\pycharmprojects\\cmput_466_coding_assignment_2\\.venv\\lib\\site-packages\\ipykernel_launcher.py:52: RuntimeWarning: invalid value encountered in true_divide\n"
     ],
     "output_type": "stream"
    }
   ],
   "source": [
    "y_test, t_hat_test, loss_test, acc_test, grad = predict(X_test, W_best, t_test)\n",
    "\n",
    "print('At epoch', epoch_best, 'val: ', acc_best, 'test:', acc_test)\n",
    "print(f\"The loss of best epoch with test data is  {loss_test:10.10f}\")\n",
    "print(f\"The accuracy best epoch with test set is {acc_test:10.10f}\")"
   ],
   "metadata": {
    "collapsed": false,
    "pycharm": {
     "name": "#%%\n",
     "is_executing": false
    }
   }
  },
  {
   "cell_type": "code",
   "execution_count": 52,
   "outputs": [],
   "source": [],
   "metadata": {
    "collapsed": false,
    "pycharm": {
     "name": "#%%\n",
     "is_executing": false
    }
   }
  },
  {
   "cell_type": "code",
   "execution_count": 53,
   "outputs": [
    {
     "name": "stdout",
     "text": [
      "train accuracy:0.82016\n",
      "validation accuracy:0.82\n",
      "test accuracy:0.7843\n"
     ],
     "output_type": "stream"
    },
    {
     "name": "stderr",
     "text": [
      "c:\\users\\nathan\\pycharmprojects\\cmput_466_coding_assignment_2\\.venv\\lib\\site-packages\\ipykernel_launcher.py:52: RuntimeWarning: invalid value encountered in true_divide\n"
     ],
     "output_type": "stream"
    }
   ],
   "source": [
    "\n",
    "print(f\"train accuracy:{getAccuracy(X_train, t_train, W_best)}\")\n",
    "print(f\"validation accuracy:{getAccuracy(X_val, t_val, W_best)}\")\n",
    "print(f\"test accuracy:{getAccuracy(X_test, t_test, W_best)}\")"
   ],
   "metadata": {
    "collapsed": false,
    "pycharm": {
     "name": "#%%\n",
     "is_executing": false
    }
   }
  },
  {
   "cell_type": "code",
   "execution_count": 45,
   "outputs": [],
   "source": [],
   "metadata": {
    "collapsed": false,
    "pycharm": {
     "name": "#%%\n",
     "is_executing": false
    }
   }
  },
  {
   "cell_type": "code",
   "execution_count": null,
   "outputs": [],
   "source": [
    "\n"
   ],
   "metadata": {
    "collapsed": false,
    "pycharm": {
     "name": "#%%\n"
    }
   }
  }
 ],
 "metadata": {
  "kernelspec": {
   "display_name": "Python 3",
   "language": "python",
   "name": "python3"
  },
  "language_info": {
   "codemirror_mode": {
    "name": "ipython",
    "version": 3
   },
   "file_extension": ".py",
   "mimetype": "text/x-python",
   "name": "python",
   "nbconvert_exporter": "python",
   "pygments_lexer": "ipython3",
   "version": "3.7.5"
  },
  "pycharm": {
   "stem_cell": {
    "cell_type": "raw",
    "source": [],
    "metadata": {
     "collapsed": false
    }
   }
  }
 },
 "nbformat": 4,
 "nbformat_minor": 1
}