{
 "cells": [
  {
   "cell_type": "markdown",
   "source": [
    "# CMPUT 466/566, Winter 2020 Introduction to Machine learning \n",
    "## Coding Assignment 2 \n",
    "### Problem 1 Report\n",
    "By Nathan Klapstein #1449872"
   ],
   "metadata": {
    "collapsed": false
   }
  },
  {
   "cell_type": "code",
   "execution_count": 1,
   "outputs": [],
   "source": [
    "\n",
    "import struct\n",
    "\n",
    "import numpy as np\n",
    "\n",
    "import matplotlib.pyplot as plt\n",
    "import scipy\n",
    "import scipy.sparse\n"
   ],
   "metadata": {
    "collapsed": false,
    "pycharm": {
     "name": "#%%\n",
     "is_executing": false
    }
   }
  },
  {
   "cell_type": "markdown",
   "source": [
    "Load in the MNIST data for later compute."
   ],
   "metadata": {
    "collapsed": false
   }
  },
  {
   "cell_type": "code",
   "execution_count": 2,
   "outputs": [
    {
     "name": "stdout",
     "text": [
      "(50000, 785) (50000, 1) (10000, 785) (10000, 1) (10000, 785) (10000, 1)\n"
     ],
     "output_type": "stream"
    }
   ],
   "source": [
    "\n",
    "def readMNISTdata():\n",
    "    with open('data/t10k-images-idx3-ubyte', 'rb') as f:\n",
    "        magic, size = struct.unpack(\">II\", f.read(8))\n",
    "        nrows, ncols = struct.unpack(\">II\", f.read(8))\n",
    "        test_data = np.fromfile(f, dtype=np.dtype(np.uint8).newbyteorder('>'))\n",
    "        test_data = test_data.reshape((size, nrows * ncols))\n",
    "\n",
    "    with open('data/t10k-labels-idx1-ubyte', 'rb') as f:\n",
    "        magic, size = struct.unpack(\">II\", f.read(8))\n",
    "        test_labels = np.fromfile(f, dtype=np.dtype(np.uint8).newbyteorder('>'))\n",
    "        test_labels = test_labels.reshape((size, 1))\n",
    "\n",
    "    with open('data/train-images-idx3-ubyte', 'rb') as f:\n",
    "        magic, size = struct.unpack(\">II\", f.read(8))\n",
    "        nrows, ncols = struct.unpack(\">II\", f.read(8))\n",
    "        train_data = np.fromfile(f, dtype=np.dtype(np.uint8).newbyteorder('>'))\n",
    "        train_data = train_data.reshape((size, nrows * ncols))\n",
    "\n",
    "    with open('data/train-labels-idx1-ubyte', 'rb') as f:\n",
    "        magic, size = struct.unpack(\">II\", f.read(8))\n",
    "        train_labels = np.fromfile(f, dtype=np.dtype(np.uint8).newbyteorder('>'))\n",
    "        train_labels = train_labels.reshape((size, 1))\n",
    "\n",
    "    # augmenting a constant feature of 1 (absorbing the bias term)\n",
    "    train_data = np.concatenate(\n",
    "        (np.ones([train_data.shape[0], 1]), train_data), axis=1)\n",
    "    test_data = np.concatenate((np.ones([test_data.shape[0], 1]), test_data),\n",
    "                               axis=1)\n",
    "    np.random.seed(314)\n",
    "    np.random.shuffle(train_labels)\n",
    "    np.random.seed(314)\n",
    "    np.random.shuffle(train_data)\n",
    "\n",
    "    X_train = train_data[:50000] / 256\n",
    "    t_train = train_labels[:50000]\n",
    "\n",
    "    X_val = train_data[50000:] / 256\n",
    "    t_val = train_labels[50000:]\n",
    "\n",
    "    return X_train, t_train, X_val, t_val, test_data, test_labels\n",
    "\n",
    "\n",
    "X_train, t_train, X_val, t_val, X_test, t_test = readMNISTdata()\n",
    "\n",
    "print(X_train.shape, t_train.shape, X_val.shape, t_val.shape, X_test.shape, t_test.shape)\n"
   ],
   "metadata": {
    "collapsed": false,
    "pycharm": {
     "name": "#%%\n",
     "is_executing": false
    }
   }
  },
  {
   "cell_type": "markdown",
   "source": [
    "Various global configurations."
   ],
   "metadata": {
    "collapsed": false
   }
  },
  {
   "cell_type": "code",
   "execution_count": 62,
   "outputs": [],
   "source": [
    "N_class = 10\n",
    "\n",
    "# original defined hyper parameters\n",
    "# alpha = 0.1  # learning rate\n",
    "# batch_size = 100  # batch size\n",
    "# MaxIter = 50  # Maximum iteration\n",
    "# decay = 0.  # weight decay\n",
    "\n",
    "\n",
    "alpha = 0.4  # learning rate\n",
    "batch_size = 25000 * 2  # batch size\n",
    "MaxIter = 35  # Maximum iteration\n",
    "decay = 0.0  # weight decay\n",
    "\n",
    "lam = 0.4  # regularization loss multiplier\n",
    "verbose = True"
   ],
   "metadata": {
    "collapsed": false,
    "pycharm": {
     "name": "#%%\n",
     "is_executing": false
    }
   }
  },
  {
   "cell_type": "code",
   "execution_count": 63,
   "outputs": [],
   "source": [
    "\n",
    "def oneHotIt(Y):\n",
    "    \"\"\"Convert unidimensional array of labels into a one-hot variant\n",
    "    where the array is size m (examples) x n (classes).\"\"\"\n",
    "    m = Y.shape[0]\n",
    "    Y = Y[:,0]\n",
    "    OHX = scipy.sparse.csr_matrix((np.ones(m), (Y, np.array(range(m)))))\n",
    "    OHX = np.array(OHX.todense()).T\n",
    "    return OHX\n",
    "\n",
    "\n",
    "def softmax(z):\n",
    "    z -= np.max(z) + np.min(z)\n",
    "    sm = (np.exp(z).T / np.sum(np.exp(z),axis=1)).T\n",
    "    return sm\n",
    "\n",
    "\n",
    "def getLoss(w, x, y):\n",
    "    m = x.shape[0] #First we get the number of training examples\n",
    "    y_mat = oneHotIt(y) #Next we convert the integer class coding into a one-hot representation\n",
    "    scores = np.dot(x,w) #Then we compute raw class scores given our input and current weights\n",
    "    prob = softmax(scores) #Next we perform a softmax on these scores to get their probabilities\n",
    "    loss = (-1 / m) * np.sum(y_mat * np.log(prob)) + (lam/2)*np.sum(w*w) #We then find the loss of the probabilities\n",
    "    grad = (-1 / m) * np.dot(x.T, (y_mat - prob)) + lam*w #And compute the gradient for that loss\n",
    "    return loss, grad\n",
    "\n",
    "\n",
    "def getProbsAndPreds(someX, w):\n",
    "    probs = softmax(np.dot(someX, w))\n",
    "    preds = np.argmax(probs,axis=1)\n",
    "    return probs,preds\n",
    "\n",
    "\n",
    "# inspired by https://medium.com/@awjuliani/simple-softmax-in-python-tutorial-d6b4c4ed5c16\n",
    "# https://www.w3resource.com/numpy/manipulation/ndarray-flatten.php\n",
    "def getAccuracy(someX, someY, w):\n",
    "    prob, prede = getProbsAndPreds(someX,w)\n",
    "    someY = someY.flatten()\n",
    "    num_correct = np.sum(prede == someY)\n",
    "    num_incorrect = np.sum(prede != someY)\n",
    "    accuracy = num_correct/(num_correct+num_incorrect)\n",
    "    return accuracy, num_correct, num_incorrect\n",
    "\n",
    "\n",
    "def predict(x, w, t=None):\n",
    "    # X_new: Nsample x (d+1)\n",
    "    # W: (d+1) x K\n",
    "    \n",
    "    # TODO Your code here\n",
    "    y = np.matmul(x, w)\n",
    "    \n",
    "    t_hat = np.argmax(y, axis=1)\n",
    "    \n",
    "    m = x.shape[0] #First we get the number of training examples\n",
    "    y_mat = oneHotIt(t) #Next we convert the integer class coding into a one-hot representation\n",
    "    scores = np.dot(x,w) #Then we compute raw class scores given our input and current weights\n",
    "    prob = softmax(scores) #Next we perform a softmax on these scores to get their probabilities\n",
    "    loss = (-1 / m) * np.sum(y_mat * np.log(prob)) + (lam/2)*np.sum(w*w) # compute the loss\n",
    "    \n",
    "    # compute the mean-per class accuracy\n",
    "    acc = getAccuracy(x, t, w)\n",
    "    \n",
    "    return y, t_hat, loss, acc\n",
    "\n",
    "\n",
    "def train(X_train, t_train, X_val, t_val):\n",
    "    N_train = X_train.shape[0]\n",
    "    N_val = X_val.shape[0]\n",
    "\n",
    "    # TODO Your code here\n",
    "    \n",
    "    # initialization\n",
    "    w = np.zeros([X_train.shape[1], N_class])\n",
    "    # w: (d+1)x1\n",
    "\n",
    "    losses_train = []\n",
    "    acc_val = []\n",
    "    w_best = None\n",
    "    acc_best = 0\n",
    "    epoch_best = 0\n",
    "    \n",
    "    print(f\"running {int(np.ceil(N_train / batch_size))} batches of size {batch_size} over data size {X_train.shape[0]} for {MaxIter} epochs\")\n",
    "    for epoch in range(MaxIter):\n",
    "        loss_this_epoch = 0\n",
    "        for b in range(int(np.ceil(N_train / batch_size))):\n",
    "            X_batch = X_train[b * batch_size: (b + 1) * batch_size]\n",
    "            t_batch = t_train[b * batch_size: (b + 1) * batch_size]\n",
    "            loss_batch, grad = getLoss(w, X_batch, t_batch)\n",
    "            loss_this_epoch += loss_batch\n",
    "            \n",
    "            # gradient decent with simple weight decay\n",
    "            w = w - (alpha * grad) - (alpha * decay * w)\n",
    "   \n",
    "        # TODO: Your code here\n",
    "        # monitor model behavior after each epoch\n",
    "        \n",
    "        # 1. Compute the training loss by averaging loss_this_epoch    \n",
    "        loss_this_epoch = loss_this_epoch / (int(np.ceil(N_train/batch_size)))\n",
    "        val_acc, num_correct, num_incorrect = getAccuracy(X_val, t_val, w)\n",
    "        if verbose:\n",
    "            print(f\"epoch {epoch:>3}/{MaxIter:<2} loss:{loss_this_epoch:.18f} val_acc:{val_acc:.6f} correct|incorrect:{num_correct}|{num_incorrect}\")\n",
    "        losses_train.append(loss_this_epoch)\n",
    "\n",
    "        # 2. Perform validation on the validation test by the risk\n",
    "        # TODO: FIXED: Validation set should not be run in batches\n",
    "        acc_val.append(val_acc)\n",
    "        \n",
    "        # 3. Keep track of the best validation epoch, risk, and the weights\n",
    "        if acc_val[epoch] >= acc_best:\n",
    "            epoch_best = epoch\n",
    "            acc_best = acc_val[epoch]\n",
    "            w_best = w\n",
    "\n",
    "    # Return some variables as needed\n",
    "    return epoch_best, losses_train, acc_val, acc_best, w_best\n",
    "\n",
    "\n",
    "def plot_training_losses(losses_train):\n",
    "    fig = plt.figure()\n",
    "    plt.plot(losses_train, label=\"Training Losses\")\n",
    "    plt.title(\"Training Losses\")\n",
    "    plt.legend()\n",
    "    plt.xlabel('Number of epoch')\n",
    "    plt.ylabel('Training Loss')\n",
    "    plt.show()\n",
    "    \n",
    "    \n",
    "def plot_training_accuracy(acc_val):\n",
    "    fig = plt.figure()\n",
    "    plt.plot(acc_val, label=\"Validation Accuracy\")\n",
    "    plt.title(\"Validation Accuracy\")\n",
    "    plt.legend()\n",
    "    plt.xlabel('Number of epoch')\n",
    "    plt.ylabel('Validation Accuracy')\n",
    "    plt.show()\n",
    "    "
   ],
   "metadata": {
    "collapsed": false,
    "pycharm": {
     "name": "#%%\n",
     "is_executing": false
    }
   }
  },
  {
   "cell_type": "code",
   "execution_count": 64,
   "outputs": [
    {
     "name": "stdout",
     "text": [
      "running 1 batches of size 50000 over data size 50000 for 35 epochs\n",
      "epoch   0/35 loss:2.302585092994044125 val_acc:0.665000 correct|incorrect:6650|3350\n",
      "epoch   1/35 loss:1.951664044804228837 val_acc:0.771900 correct|incorrect:7719|2281\n",
      "epoch   2/35 loss:1.779179502292060677 val_acc:0.771400 correct|incorrect:7714|2286\n",
      "epoch   3/35 loss:1.695926021288843621 val_acc:0.792800 correct|incorrect:7928|2072\n",
      "epoch   4/35 loss:1.655109847757574748 val_acc:0.794700 correct|incorrect:7947|2053\n",
      "epoch   5/35 loss:1.634609043409839479 val_acc:0.802600 correct|incorrect:8026|1974\n",
      "epoch   6/35 loss:1.624113141115669068 val_acc:0.805100 correct|incorrect:8051|1949\n",
      "epoch   7/35 loss:1.618603251584766145 val_acc:0.808700 correct|incorrect:8087|1913\n",
      "epoch   8/35 loss:1.615654251454750501 val_acc:0.810400 correct|incorrect:8104|1896\n",
      "epoch   9/35 loss:1.614039091419714467 val_acc:0.812500 correct|incorrect:8125|1875\n",
      "epoch  10/35 loss:1.613137331664936003 val_acc:0.813500 correct|incorrect:8135|1865\n",
      "epoch  11/35 loss:1.612623053750106283 val_acc:0.814500 correct|incorrect:8145|1855\n",
      "epoch  12/35 loss:1.612324482305237394 val_acc:0.815700 correct|incorrect:8157|1843\n",
      "epoch  13/35 loss:1.612147854759048426 val_acc:0.816100 correct|incorrect:8161|1839\n",
      "epoch  14/35 loss:1.612041766496415063 val_acc:0.816800 correct|incorrect:8168|1832\n",
      "epoch  15/35 loss:1.611977047678841757 val_acc:0.817400 correct|incorrect:8174|1826\n",
      "epoch  16/35 loss:1.611937089796783740 val_acc:0.818000 correct|incorrect:8180|1820\n",
      "epoch  17/35 loss:1.611912117724589200 val_acc:0.818100 correct|incorrect:8181|1819\n",
      "epoch  18/35 loss:1.611896370279385149 val_acc:0.818600 correct|incorrect:8186|1814\n",
      "epoch  19/35 loss:1.611886348395378477 val_acc:0.818700 correct|incorrect:8187|1813\n",
      "epoch  20/35 loss:1.611879928227111236 val_acc:0.819200 correct|incorrect:8192|1808\n",
      "epoch  21/35 loss:1.611875787164607665 val_acc:0.819300 correct|incorrect:8193|1807\n",
      "epoch  22/35 loss:1.611873103211102887 val_acc:0.819300 correct|incorrect:8193|1807\n",
      "epoch  23/35 loss:1.611871354716558402 val_acc:0.819300 correct|incorrect:8193|1807\n",
      "epoch  24/35 loss:1.611870211500177730 val_acc:0.819700 correct|incorrect:8197|1803\n",
      "epoch  25/35 loss:1.611869461096817613 val_acc:0.819500 correct|incorrect:8195|1805\n",
      "epoch  26/35 loss:1.611868967145213327 val_acc:0.819800 correct|incorrect:8198|1802\n",
      "epoch  27/35 loss:1.611868641000408164 val_acc:0.819700 correct|incorrect:8197|1803\n",
      "epoch  28/35 loss:1.611868425164636243 val_acc:0.819900 correct|incorrect:8199|1801\n",
      "epoch  29/35 loss:1.611868281973504180 val_acc:0.819900 correct|incorrect:8199|1801\n",
      "epoch  30/35 loss:1.611868186796112656 val_acc:0.820000 correct|incorrect:8200|1800\n",
      "epoch  31/35 loss:1.611868123402123265 val_acc:0.820000 correct|incorrect:8200|1800\n",
      "epoch  32/35 loss:1.611868081108694728 val_acc:0.820000 correct|incorrect:8200|1800\n",
      "epoch  33/35 loss:1.611868052842935661 val_acc:0.820000 correct|incorrect:8200|1800\n",
      "epoch  34/35 loss:1.611868033924954258 val_acc:0.820000 correct|incorrect:8200|1800\n",
      "best epoch: 34 acc:0.820000\n"
     ],
     "output_type": "stream"
    }
   ],
   "source": [
    "\n",
    "epoch_best, losses_train, acc_val, acc_best, W_best = train(X_train, t_train, X_val, t_val)\n",
    "\n",
    "print(f\"best epoch: {epoch_best} acc:{acc_best:.6f}\")\n"
   ],
   "metadata": {
    "collapsed": false,
    "pycharm": {
     "name": "#%%\n",
     "is_executing": false
    }
   }
  },
  {
   "cell_type": "markdown",
   "source": [
    "The learning curve of the training loss, where x-axis is the number of epochs,\n",
    "and y-axis is the training loss."
   ],
   "metadata": {
    "collapsed": false
   }
  },
  {
   "cell_type": "code",
   "execution_count": 65,
   "outputs": [
    {
     "data": {
      "text/plain": "<Figure size 432x288 with 1 Axes>",
      "image/png": "[encoded data removed]"
     },
     "metadata": {
      "needs_background": "light"
     },
     "output_type": "display_data"
    }
   ],
   "source": [
    "plot_training_losses(losses_train)"
   ],
   "metadata": {
    "collapsed": false,
    "pycharm": {
     "name": "#%%\n",
     "is_executing": false
    }
   }
  },
  {
   "cell_type": "markdown",
   "source": [
    "The accuracy curve, where x-axis is the number of epochs, and y-axis is the \n",
    "accuracy in decimal form (0.0-1.0)."
   ],
   "metadata": {
    "collapsed": false
   }
  },
  {
   "cell_type": "code",
   "execution_count": 66,
   "outputs": [
    {
     "data": {
      "text/plain": "<Figure size 432x288 with 1 Axes>",
      "image/png": "[encoded data removed]"
     },
     "metadata": {
      "needs_background": "light"
     },
     "output_type": "display_data"
    }
   ],
   "source": [
    "plot_training_accuracy(acc_val)"
   ],
   "metadata": {
    "collapsed": false,
    "pycharm": {
     "name": "#%%\n",
     "is_executing": false
    }
   }
  },
  {
   "cell_type": "markdown",
   "source": [
    "Getting accuracy of the learned model on the test set."
   ],
   "metadata": {
    "collapsed": false
   }
  },
  {
   "cell_type": "code",
   "execution_count": 67,
   "outputs": [
    {
     "name": "stdout",
     "text": [
      "tst_acc:0.830000 correct|incorrect:8300|1700\n"
     ],
     "output_type": "stream"
    },
    {
     "name": "stderr",
     "text": [
      "c:\\users\\nathan\\pycharmprojects\\cmput_466_coding_assignment_2\\.venv\\lib\\site-packages\\ipykernel_launcher.py:13: RuntimeWarning: overflow encountered in exp\n",
      "  del sys.path[0]\n",
      "c:\\users\\nathan\\pycharmprojects\\cmput_466_coding_assignment_2\\.venv\\lib\\site-packages\\ipykernel_launcher.py:13: RuntimeWarning: invalid value encountered in true_divide\n",
      "  del sys.path[0]\n"
     ],
     "output_type": "stream"
    }
   ],
   "source": [
    "\n",
    "acc_test, num_correct, num_incorrect = getAccuracy(X_test, t_test, W_best)\n",
    "print(f\"tst_acc:{acc_test:.6f} correct|incorrect:{num_correct}|{num_incorrect}\")\n"
   ],
   "metadata": {
    "collapsed": false,
    "pycharm": {
     "name": "#%%\n",
     "is_executing": false
    }
   }
  },
  {
   "cell_type": "markdown",
   "source": [
    "### Problem 2 Report\n",
    "\n",
    "Ask one meaningful scientific question yourself, design your experimental \n",
    "protocol, present results, and draw a conclusion.  "
   ],
   "metadata": {
    "collapsed": false,
    "pycharm": {
     "name": "#%% md\n"
    }
   }
  },
  {
   "cell_type": "markdown",
   "source": [
    "#### Scientific Question\n",
    "\n",
    "With proper tailoring of the hyperparameters:\n",
    "\n",
    "* ``alpha`` - learning rate\n",
    "* ``batch_size`` -  batch size\n",
    "* ``MaxIter`` - number of epochs\n",
    "* ``decay`` - weight decay\n",
    "* ``lam`` - regularization loss multiplier\n",
    "\n",
    "Can we obtain a accuracy better than 83% 83% on the test set?\n",
    "\n",
    "If so what is the most efficient method of maximizing accuracy performance \n",
    "given these configurations?\n",
    "\n",
    "Additionally, I see in my training accuracy it looks similar to a logarithmic\n",
    "curve approaching to 0.82, is there a possible way to prevent this limiting \n",
    "cap?\n",
    "\n",
    "#### Experimental Protocol\n",
    "\n",
    "Re-run the expirement tuning the hyperparamters "
   ],
   "metadata": {
    "collapsed": false,
    "pycharm": {
     "name": "#%% md\n"
    }
   }
  },
  {
   "cell_type": "markdown",
   "source": [
    "#### Experimental Results"
   ],
   "metadata": {
    "collapsed": false,
    "pycharm": {
     "name": "#%% md\n"
    }
   }
  },
  {
   "cell_type": "code",
   "execution_count": 68,
   "outputs": [
    {
     "name": "stdout",
     "text": [
      "(50000, 785) (50000, 1) (10000, 785) (10000, 1) (10000, 785) (10000, 1)\n",
      "running 16 batches of size 3125 over data size 50000 for 30 epochs\n",
      "trn_acc:0.898560 correct|incorrect:44928|5072\n",
      "val_acc:0.896200 correct|incorrect:8962|1038\n",
      "tst_acc:0.891500 correct|incorrect:8915|1085\n"
     ],
     "output_type": "stream"
    },
    {
     "data": {
      "text/plain": "<Figure size 432x288 with 1 Axes>",
      "image/png": "[encoded data removed]"
     },
     "metadata": {
      "needs_background": "light"
     },
     "output_type": "display_data"
    },
    {
     "data": {
      "text/plain": "<Figure size 432x288 with 1 Axes>",
      "image/png": "[encoded data removed]"
     },
     "metadata": {
      "needs_background": "light"
     },
     "output_type": "display_data"
    },
    {
     "name": "stderr",
     "text": [
      "c:\\users\\nathan\\pycharmprojects\\cmput_466_coding_assignment_2\\.venv\\lib\\site-packages\\ipykernel_launcher.py:13: RuntimeWarning: overflow encountered in exp\n",
      "  del sys.path[0]\n",
      "c:\\users\\nathan\\pycharmprojects\\cmput_466_coding_assignment_2\\.venv\\lib\\site-packages\\ipykernel_launcher.py:13: RuntimeWarning: invalid value encountered in true_divide\n",
      "  del sys.path[0]\n"
     ],
     "output_type": "stream"
    }
   ],
   "source": [
    "\n",
    "X_train, t_train, X_val, t_val, X_test, t_test = readMNISTdata()\n",
    "\n",
    "print(X_train.shape, t_train.shape, X_val.shape, t_val.shape, X_test.shape, t_test.shape)\n",
    "\n",
    "# # 88 test accuacy\n",
    "# alpha = 0.1  # learning rate\n",
    "# num_batches = 10\n",
    "# batch_size = 50000 // num_batches  # batch size\n",
    "# MaxIter = 50  # Maximum iteration\n",
    "# decay = 0.01  # weight decay\n",
    "# lam = 0.04  # regularization loss multiplier\n",
    "\n",
    "# 89.25 test accuacy\n",
    "# alpha = 0.3  # learning rate\n",
    "# num_batches = 10\n",
    "# batch_size = 50000 // num_batches  # batch size\n",
    "# MaxIter = 100  # Maximum iteration\n",
    "# decay = 0.02  # weight decay\n",
    "# lam = 0.00000003  # regularization loss multiplier\n",
    "# \n",
    "\n",
    "# 90.8 val accuracy 79 test accuacy\n",
    "# alpha = 0.4  # learning rate\n",
    "# num_batches = 20\n",
    "# batch_size = 50000 // num_batches  # batch size\n",
    "# MaxIter = 100  # Maximum iteration\n",
    "# decay = 0.0025  # weight decay\n",
    "# lam = 0.00000003  # regularization loss multiplier\n",
    "\n",
    "\n",
    "# # feels like over fitting\n",
    "\n",
    "# alpha = 0.3  # learning rate\n",
    "# num_batches = 10\n",
    "# batch_size = 50000 // num_batches  # batch size\n",
    "# MaxIter = 100  # Maximum iteration\n",
    "# decay = 0.002  # weight decay\n",
    "# lam = 0.0000003  # regularization loss multiplier\n",
    "\n",
    "\n",
    "# \n",
    "# def softmax(z):\n",
    "#     z -= np.max(z) + np.min(z)\n",
    "#     sm = (np.exp(z).T / np.sum(np.exp(z),axis=1)).T\n",
    "#     return sm\n",
    "\n",
    "\n",
    "\n",
    "# trn_acc:0.894380 correct|incorrect:44719|5281\n",
    "# val_acc:0.891500 correct|incorrect:8915|1085\n",
    "# tst_acc:0.894400 correct|incorrect:8944|1056\n",
    "# alpha = 0.36  # learning rate\n",
    "# num_batches = 10\n",
    "# batch_size = 50000 // num_batches  # batch size\n",
    "# MaxIter = 50  # Maximum iteration\n",
    "# decay = 0.014  # weight decay\n",
    "# lam = 0.00000003  # regularization loss multiplier\n",
    "# verbose = False\n",
    "\n",
    "# \n",
    "# trn_acc:0.899320 correct|incorrect:44966|5034\n",
    "# val_acc:0.896500 correct|incorrect:8965|1035\n",
    "# tst_acc:0.892700 correct|incorrect:8927|1073\n",
    "# alpha = 0.37  # learning rate\n",
    "# num_batches = 16\n",
    "# batch_size = 50000 // num_batches  # batch size\n",
    "# MaxIter = 200  # Maximum iteration\n",
    "# decay = 0.01  # weight decay\n",
    "# lam = 0.00000003  # regularization loss multiplier\n",
    "# verbose = False\n",
    "\n",
    "\n",
    "# trn_acc:0.899320 correct|incorrect:44966|5034\n",
    "# val_acc:0.896500 correct|incorrect:8965|1035\n",
    "# tst_acc:0.892700 correct|incorrect:8927|1073\n",
    "# good all round accuracy performance, good training performance with low number of iterations\n",
    "# alpha = 0.37  # learning rate\n",
    "# num_batches = 16\n",
    "# batch_size = 50000 // num_batches  # batch size\n",
    "# MaxIter = 75  # Maximum iteration\n",
    "# decay = 0.01  # weight decay\n",
    "# lam = 0.00000003  # regularization loss multiplier\n",
    "# verbose = False\n",
    "\n",
    "\n",
    "# trn_acc:0.898560 correct|incorrect:44928|5072\n",
    "# val_acc:0.896200 correct|incorrect:8962|1038\n",
    "# tst_acc:0.891500 correct|incorrect:8915|1085\n",
    "# \n",
    "# alpha = 0.4  # learning rate\n",
    "# num_batches = 16\n",
    "# batch_size = 50000 // num_batches  # batch size\n",
    "# MaxIter = 30  # Maximum iteration\n",
    "# decay = 0.01  # weight decay\n",
    "# lam = 0.000003  # regularization loss multiplier\n",
    "# verbose = False\n",
    "\n",
    "\n",
    "alpha = 0.4  # learning rate\n",
    "num_batches = 16\n",
    "batch_size = 50000 // num_batches  # batch size\n",
    "MaxIter = 30  # Maximum iteration\n",
    "decay = 0.01  # weight decay\n",
    "lam = 0.000003  # regularization loss multiplier\n",
    "verbose = False\n",
    "\n",
    "\n",
    "epoch_best, losses_train, acc_val, acc_best, W_best = train(X_train, t_train, X_val, t_val)\n",
    "plot_training_losses(losses_train)\n",
    "plot_training_accuracy(acc_val)\n",
    "\n",
    "acc, num_correct, num_incorrect = getAccuracy(X_train, t_train, W_best)\n",
    "print(f\"trn_acc:{acc:.6f} correct|incorrect:{num_correct}|{num_incorrect}\")\n",
    "acc, num_correct, num_incorrect = getAccuracy(X_val, t_val, W_best)\n",
    "print(f\"val_acc:{acc:.6f} correct|incorrect:{num_correct}|{num_incorrect}\")\n",
    "acc, num_correct, num_incorrect = getAccuracy(X_test, t_test, W_best)\n",
    "print(f\"tst_acc:{acc:.6f} correct|incorrect:{num_correct}|{num_incorrect}\")"
   ],
   "metadata": {
    "collapsed": false,
    "pycharm": {
     "name": "#%%\n",
     "is_executing": false
    }
   }
  },
  {
   "cell_type": "markdown",
   "source": [
    "#### Conclusion\n",
    "\n",
    "\n",
    "Tuning the hyperparamters as shown within the experimental results noted a \n",
    "increase in test accuracy from 83% to 89% which is a relatively good improvement."
   ],
   "metadata": {
    "collapsed": false,
    "pycharm": {
     "name": "#%% md\n"
    }
   }
  }
 ],
 "metadata": {
  "kernelspec": {
   "display_name": "Python 3",
   "language": "python",
   "name": "python3"
  },
  "language_info": {
   "codemirror_mode": {
    "name": "ipython",
    "version": 3
   },
   "file_extension": ".py",
   "mimetype": "text/x-python",
   "name": "python",
   "nbconvert_exporter": "python",
   "pygments_lexer": "ipython3",
   "version": "3.7.5"
  },
  "pycharm": {
   "stem_cell": {
    "cell_type": "raw",
    "source": [],
    "metadata": {
     "collapsed": false
    }
   }
  }
 },
 "nbformat": 4,
 "nbformat_minor": 1
}